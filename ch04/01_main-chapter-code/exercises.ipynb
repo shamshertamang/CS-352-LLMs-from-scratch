{
 "cells": [
  {
   "metadata": {},
   "cell_type": "markdown",
   "source": [
    "# Exercise 4.1\n",
    "## Number of params in Feed Forward and Attention Attribute of Transformer Block"
   ],
   "id": "63d9198995ab7227"
  },
  {
   "metadata": {
    "collapsed": true,
    "ExecuteTime": {
     "end_time": "2025-04-16T03:31:30.489557Z",
     "start_time": "2025-04-16T03:31:28.366874Z"
    }
   },
   "cell_type": "code",
   "outputs": [],
   "execution_count": 1,
   "source": [
    "from gpt import TransformerBlock\n",
    "\n",
    "GPT_CONFIG_124M = {\n",
    "    \"vocab_size\": 50257,\n",
    "    \"context_length\": 1024,\n",
    "    \"emb_dim\": 768,\n",
    "    \"n_heads\": 12,\n",
    "    \"n_layers\": 12,\n",
    "    \"drop_rate\": 0.1,\n",
    "    \"qkv_bias\": False\n",
    "}"
   ],
   "id": "initial_id"
  },
  {
   "metadata": {},
   "cell_type": "code",
   "outputs": [],
   "execution_count": null,
   "source": "transformer_block = TransformerBlock(GPT_CONFIG_124M)",
   "id": "ddbbf5d93a3f3084"
  },
  {
   "metadata": {
    "ExecuteTime": {
     "end_time": "2025-04-16T03:31:32.850483Z",
     "start_time": "2025-04-16T03:31:32.795288Z"
    }
   },
   "cell_type": "code",
   "source": [
    "total_params = sum(p.numel() for p in transformer_block.att.parameters())\n",
    "print(f'total parameters in attention layers is {total_params}')"
   ],
   "id": "41e34bf6bf65b657",
   "outputs": [
    {
     "name": "stdout",
     "output_type": "stream",
     "text": [
      "2360064\n"
     ]
    }
   ],
   "execution_count": 2
  },
  {
   "metadata": {
    "ExecuteTime": {
     "end_time": "2025-04-16T03:33:26.195616Z",
     "start_time": "2025-04-16T03:33:26.190571Z"
    }
   },
   "cell_type": "code",
   "source": [
    "total_params = sum(p.numel() for p in transformer_block.ff.parameters())\n",
    "print(f'total parameters in ff layers is {total_params}')"
   ],
   "id": "9e484b976ee0608f",
   "outputs": [
    {
     "name": "stdout",
     "output_type": "stream",
     "text": [
      "total parameters in ff layers is 4722432\n"
     ]
    }
   ],
   "execution_count": 3
  },
  {
   "metadata": {},
   "cell_type": "code",
   "outputs": [],
   "execution_count": null,
   "source": "",
   "id": "b2f5acdd1063dab6"
  }
 ],
 "metadata": {
  "kernelspec": {
   "display_name": "Python 3",
   "language": "python",
   "name": "python3"
  },
  "language_info": {
   "codemirror_mode": {
    "name": "ipython",
    "version": 2
   },
   "file_extension": ".py",
   "mimetype": "text/x-python",
   "name": "python",
   "nbconvert_exporter": "python",
   "pygments_lexer": "ipython2",
   "version": "2.7.6"
  }
 },
 "nbformat": 4,
 "nbformat_minor": 5
}
