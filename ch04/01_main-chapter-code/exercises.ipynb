{
 "cells": [
  {
   "metadata": {},
   "cell_type": "markdown",
   "source": [
    "# Exercise 4.1\n",
    "## Number of params in Feed Forward and Attention Attribute of Transformer Block"
   ],
   "id": "63d9198995ab7227"
  },
  {
   "metadata": {
    "collapsed": true,
    "ExecuteTime": {
     "end_time": "2025-04-16T03:31:30.489557Z",
     "start_time": "2025-04-16T03:31:28.366874Z"
    }
   },
   "cell_type": "code",
   "outputs": [],
   "execution_count": 1,
   "source": [
    "from gpt import TransformerBlock\n",
    "\n",
    "GPT_CONFIG_124M = {\n",
    "    \"vocab_size\": 50257,\n",
    "    \"context_length\": 1024,\n",
    "    \"emb_dim\": 768,\n",
    "    \"n_heads\": 12,\n",
    "    \"n_layers\": 12,\n",
    "    \"drop_rate\": 0.1,\n",
    "    \"qkv_bias\": False\n",
    "}"
   ],
   "id": "initial_id"
  },
  {
   "metadata": {},
   "cell_type": "code",
   "outputs": [],
   "execution_count": null,
   "source": "transformer_block = TransformerBlock(GPT_CONFIG_124M)",
   "id": "ddbbf5d93a3f3084"
  },
  {
   "metadata": {
    "ExecuteTime": {
     "end_time": "2025-04-16T03:31:32.850483Z",
     "start_time": "2025-04-16T03:31:32.795288Z"
    }
   },
   "cell_type": "code",
   "source": [
    "total_params = sum(p.numel() for p in transformer_block.att.parameters())\n",
    "print(f'total parameters in attention layers in a single transformer block is {total_params}')"
   ],
   "id": "41e34bf6bf65b657",
   "outputs": [
    {
     "name": "stdout",
     "output_type": "stream",
     "text": [
      "2360064\n"
     ]
    }
   ],
   "execution_count": 2
  },
  {
   "metadata": {
    "ExecuteTime": {
     "end_time": "2025-04-16T03:33:26.195616Z",
     "start_time": "2025-04-16T03:33:26.190571Z"
    }
   },
   "cell_type": "code",
   "source": [
    "total_params = sum(p.numel() for p in transformer_block.ff.parameters())\n",
    "print(f'total parameters in ff layers in a single transformer block is {total_params}')"
   ],
   "id": "9e484b976ee0608f",
   "outputs": [
    {
     "name": "stdout",
     "output_type": "stream",
     "text": [
      "total parameters in ff layers is 4722432\n"
     ]
    }
   ],
   "execution_count": 3
  },
  {
   "metadata": {},
   "cell_type": "markdown",
   "source": [
    "# Exercise 4.2\n",
    "## Initializing larger GPT models"
   ],
   "id": "716e46851042a07f"
  },
  {
   "metadata": {
    "ExecuteTime": {
     "end_time": "2025-04-16T04:15:26.695736Z",
     "start_time": "2025-04-16T04:15:23.876404Z"
    }
   },
   "cell_type": "code",
   "source": [
    "from gpt import GPTModel\n",
    "print(\"Okay now we initialize GPT 2 Medium\")\n",
    "\n",
    "GPT_CONFIG_GPT2_M = {\n",
    "    \"vocab_size\": 50257,\n",
    "    \"context_length\": 1024,\n",
    "    \"emb_dim\": 1024,\n",
    "    \"n_heads\": 16,\n",
    "    \"n_layers\": 24,\n",
    "    \"drop_rate\": 0.1,\n",
    "    \"qkv_bias\": False\n",
    "}\n",
    "\n",
    "GPT2_M = GPTModel(GPT_CONFIG_GPT2_M)\n",
    "total_params = sum(p.numel() for p in GPT2_M.parameters())\n",
    "print(f'total parameters GPT2 Medium is {total_params}')\n",
    "total_params = total_params- sum(p.numel() for p in GPT2_M.out_head.parameters())\n",
    "print(f'total parameters GPT2 Medium is {total_params} after removing params from out_head')"
   ],
   "id": "b2f5acdd1063dab6",
   "outputs": [
    {
     "name": "stdout",
     "output_type": "stream",
     "text": [
      "Okay now we initialize GPT 2 Medium\n",
      "total parameters GPT2 Medium is 406212608\n",
      "total parameters GPT2 Medium is 354749440 after removing params from out_head\n"
     ]
    }
   ],
   "execution_count": 10
  },
  {
   "metadata": {
    "ExecuteTime": {
     "end_time": "2025-04-16T04:17:41.191348Z",
     "start_time": "2025-04-16T04:17:30.685297Z"
    }
   },
   "cell_type": "code",
   "source": [
    "print(\"Okay now we initialize GPT 2 Large\")\n",
    "\n",
    "GPT_CONFIG_GPT2_L = {\n",
    "    \"vocab_size\": 50257,\n",
    "    \"context_length\": 1024,\n",
    "    \"emb_dim\": 1280,\n",
    "    \"n_heads\": 20,\n",
    "    \"n_layers\": 36,\n",
    "    \"drop_rate\": 0.1,\n",
    "    \"qkv_bias\": False\n",
    "}\n",
    "\n",
    "GPT2_L = GPTModel(GPT_CONFIG_GPT2_L)\n",
    "total_params = sum(p.numel() for p in GPT2_L.parameters())\n",
    "print(f'total parameters GPT2 Large is {total_params}')\n",
    "total_params = total_params- sum(p.numel() for p in GPT2_L.out_head.parameters())\n",
    "print(f'total parameters GPT2 Large is {total_params} after removing params from out_head')\n"
   ],
   "id": "a9a521bc0d2c8c61",
   "outputs": [
    {
     "name": "stdout",
     "output_type": "stream",
     "text": [
      "Okay now we initialize GPT 2 Large\n",
      "total parameters GPT2 Large is 838220800\n",
      "total parameters GPT2 Large is 773891840 after removing params from out_head\n"
     ]
    }
   ],
   "execution_count": 12
  },
  {
   "metadata": {
    "ExecuteTime": {
     "end_time": "2025-04-16T04:20:22.434035Z",
     "start_time": "2025-04-16T04:19:34.477716Z"
    }
   },
   "cell_type": "code",
   "source": [
    "print(\"Okay now we initialize GPT 2 X-Large\")\n",
    "\n",
    "GPT_CONFIG_GPT2_XL = {\n",
    "    \"vocab_size\": 50257,\n",
    "    \"context_length\": 1024,\n",
    "    \"emb_dim\": 1600,\n",
    "    \"n_heads\": 25,\n",
    "    \"n_layers\": 48,\n",
    "    \"drop_rate\": 0.1,\n",
    "    \"qkv_bias\": False\n",
    "}\n",
    "\n",
    "GPT2_XL = GPTModel(GPT_CONFIG_GPT2_XL)\n",
    "total_params = sum(p.numel() for p in GPT2_XL.parameters())\n",
    "print(f'total parameters GPT2 XLarge is {total_params}')\n",
    "total_params = total_params- sum(p.numel() for p in GPT2_XL.out_head.parameters())\n",
    "print(f'total parameters GPT2 Medium is {total_params} after removing params from out_head')\n",
    "\n",
    "# total_size_bytes = total_params * 4\n",
    "# total_size_gb = total_size_bytes / (1024 * 1024*1024)\n",
    "# print(f\"Total size of the model: {total_size_gb:.2f} GB\")\n"
   ],
   "id": "487c58a16aa14c5",
   "outputs": [
    {
     "name": "stdout",
     "output_type": "stream",
     "text": [
      "Okay now we initialize GPT 2 X-Large\n",
      "total parameters GPT2 XLarge is 1637792000\n",
      "total parameters GPT2 Medium is 1557380800 after removing params from out_head\n",
      "Total size of the model: 5.80 MB\n"
     ]
    }
   ],
   "execution_count": 14
  },
  {
   "metadata": {},
   "cell_type": "markdown",
   "source": [
    "# Exercise 4.3\n",
    "## Using Separate DropOut Parameters"
   ],
   "id": "eaf815f7bec1a1"
  },
  {
   "metadata": {
    "ExecuteTime": {
     "end_time": "2025-04-16T04:54:09.452439Z",
     "start_time": "2025-04-16T04:54:09.313033Z"
    }
   },
   "cell_type": "code",
   "source": [
    "# At the beginning of this chapter, we defined a global drop_rate setting in the GPT_\n",
    "#  CONFIG_124M dictionary to set the dropout rate in various places throughout the\n",
    "#  GPTModel architecture. Change the code to specify a separate dropout value for the\n",
    "#  various dropout layers throughout the model architecture. (Hint: there are three dis\n",
    "# tinct places where we used dropout layers: the embedding layer, shortcut layer, and\n",
    "#  multi-head attention module.)\n",
    "\n",
    "GPT_CONFIG_124M = {\n",
    "    \"vocab_size\": 50257,\n",
    "    \"context_length\": 1024,\n",
    "    \"emb_dim\": 768,\n",
    "    \"n_heads\": 12,\n",
    "    \"n_layers\": 12,\n",
    "    \"drop_emb\": 0.1,\n",
    "    \"drop_shortcut\": 0.2,\n",
    "    \"drop_attn\": 0.3,\n",
    "    \"qkv_bias\": False\n",
    "}\n",
    "\n",
    "from gpt import MultiHeadAttention, LayerNorm, FeedForward\n",
    "from torch import nn as nn\n",
    "import torch\n",
    "\n",
    "class TransformerBlock(nn.Module):\n",
    "    def __init__(self, cfg):\n",
    "        super().__init__()\n",
    "        self.att = MultiHeadAttention(\n",
    "            d_in=cfg[\"emb_dim\"],\n",
    "            d_out=cfg[\"emb_dim\"],\n",
    "            context_length=cfg[\"context_length\"],\n",
    "            num_heads=cfg[\"n_heads\"],\n",
    "            dropout=cfg[\"drop_attn\"],\n",
    "            qkv_bias=cfg[\"qkv_bias\"])\n",
    "        self.ff = FeedForward(cfg)\n",
    "        self.norm1 = LayerNorm(cfg[\"emb_dim\"])\n",
    "        self.norm2 = LayerNorm(cfg[\"emb_dim\"])\n",
    "        self.drop_shortcut = nn.Dropout(cfg[\"drop_shortcut\"])\n",
    "\n",
    "    def forward(self, x):\n",
    "        # Shortcut connection for attention block\n",
    "        shortcut = x\n",
    "        x = self.norm1(x)\n",
    "        x = self.att(x)   # Shape [batch_size, num_tokens, emb_size]\n",
    "        x = self.drop_shortcut(x)\n",
    "        x = x + shortcut  # Add the original input back\n",
    "\n",
    "        # Shortcut connection for feed-forward block\n",
    "        shortcut = x\n",
    "        x = self.norm2(x)\n",
    "        x = self.ff(x)\n",
    "        x = self.drop_shortcut(x)\n",
    "        x = x + shortcut  # Add the original input back\n",
    "\n",
    "        return x\n",
    "\n",
    "class GPTModel(nn.Module):\n",
    "    def __init__(self, cfg):\n",
    "        super().__init__()\n",
    "        self.tok_emb = nn.Embedding(cfg[\"vocab_size\"], cfg[\"emb_dim\"])\n",
    "        self.pos_emb = nn.Embedding(cfg[\"context_length\"], cfg[\"emb_dim\"])\n",
    "        self.drop_emb = nn.Dropout(cfg[\"drop_emb\"])\n",
    "\n",
    "        self.trf_blocks = nn.Sequential(\n",
    "            *[TransformerBlock(cfg) for _ in range(cfg[\"n_layers\"])])\n",
    "\n",
    "        self.final_norm = LayerNorm(cfg[\"emb_dim\"])\n",
    "        self.out_head = nn.Linear(cfg[\"emb_dim\"], cfg[\"vocab_size\"], bias=False)\n",
    "\n",
    "    def forward(self, in_idx):\n",
    "        batch_size, seq_len = in_idx.shape\n",
    "        tok_embeds = self.tok_emb(in_idx)\n",
    "        pos_embeds = self.pos_emb(torch.arange(seq_len, device=in_idx.device))\n",
    "        x = tok_embeds + pos_embeds  # Shape [batch_size, num_tokens, emb_size]\n",
    "        x = self.drop_emb(x)\n",
    "        x = self.trf_blocks(x)\n",
    "        x = self.final_norm(x)\n",
    "        logits = self.out_head(x)\n",
    "        return logits\n",
    "\n"
   ],
   "id": "cde72689e1c8d370",
   "outputs": [],
   "execution_count": 15
  },
  {
   "metadata": {},
   "cell_type": "markdown",
   "source": "### End of Assignment",
   "id": "9e946584ef287872"
  }
 ],
 "metadata": {
  "kernelspec": {
   "display_name": "Python 3",
   "language": "python",
   "name": "python3"
  },
  "language_info": {
   "codemirror_mode": {
    "name": "ipython",
    "version": 2
   },
   "file_extension": ".py",
   "mimetype": "text/x-python",
   "name": "python",
   "nbconvert_exporter": "python",
   "pygments_lexer": "ipython2",
   "version": "2.7.6"
  }
 },
 "nbformat": 4,
 "nbformat_minor": 5
}
