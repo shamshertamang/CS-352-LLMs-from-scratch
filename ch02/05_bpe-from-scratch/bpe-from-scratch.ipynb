{
 "cells": [
  {
   "cell_type": "markdown",
   "id": "9dec0dfb-3d60-41d0-a63a-b010dce67e32",
   "metadata": {},
   "source": [
    "<table style=\"width:100%\">\n",
    "<tr>\n",
    "<td style=\"vertical-align:middle; text-align:left;\">\n",
    "<font size=\"2\">\n",
    "Supplementary code for the <a href=\"http://mng.bz/orYv\">Build a Large Language Model From Scratch</a> book by <a href=\"https://sebastianraschka.com\">Sebastian Raschka</a><br>\n",
    "<br>Code repository: <a href=\"https://github.com/rasbt/LLMs-from-scratch\">https://github.com/rasbt/LLMs-from-scratch</a>\n",
    "</font>\n",
    "</td>\n",
    "<td style=\"vertical-align:middle; text-align:left;\">\n",
    "<a href=\"http://mng.bz/orYv\"><img src=\"https://sebastianraschka.com/images/LLMs-from-scratch-images/cover-small.webp\" width=\"100px\"></a>\n",
    "</td>\n",
    "</tr>\n",
    "</table>"
   ]
  },
  {
   "cell_type": "markdown",
   "id": "5e475425-8300-43f2-a5e8-6b5d2de59925",
   "metadata": {},
   "source": [
    "# Byte Pair Encoding (BPE) Tokenizer From Scratch"
   ]
  },
  {
   "cell_type": "markdown",
   "id": "a1bfc3f3-8ec1-4fd3-b378-d9a3d7807a54",
   "metadata": {},
   "source": [
    "- This is a standalone notebook implementing the popular byte pair encoding (BPE) tokenization algorithm, which is used in models like GPT-2 to GPT-4, Llama 3, etc., from scratch for educational purposes\n",
    "- For more details about the purpose of tokenization, please refer to [Chapter 2](https://github.com/rasbt/LLMs-from-scratch/blob/main/ch02/01_main-chapter-code/ch02.ipynb); this code here is bonus material explaining the BPE algorithm\n",
    "- The original BPE tokenizer that OpenAI implemented for training the original GPT models can be found [here](https://github.com/openai/gpt-2/blob/master/src/encoder.py)\n",
    "- The BPE algorithm was originally described in 1994: \"[A New Algorithm for Data Compression](http://www.pennelynn.com/Documents/CUJ/HTML/94HTML/19940045.HTM)\" by Philip Gage\n",
    "- Most projects, including Llama 3, nowadays use OpenAI's open-source [tiktoken library](https://github.com/openai/tiktoken) due to its computational performance; it allows loading pretrained GPT-2 and GPT-4 tokenizers, for example (the Llama 3 models were trained using the GPT-4 tokenizer as well)\n",
    "- The difference between the implementations above and my implementation in this notebook, besides it being is that it also includes a function for training the tokenizer (for educational purposes)\n",
    "- There's also an implementation called [minBPE](https://github.com/karpathy/minbpe) with training support, which is maybe more performant (my implementation here is focused on educational purposes); in contrast to `minbpe` my implementation additionally allows loading the original OpenAI tokenizer vocabulary and merges"
   ]
  },
  {
   "cell_type": "markdown",
   "id": "f62336db-f45c-4894-9167-7583095dbdf1",
   "metadata": {},
   "source": [
    "&nbsp;\n",
    "# 1. The main idea behind byte pair encoding (BPE)"
   ]
  },
  {
   "cell_type": "markdown",
   "id": "cd3f1231-bd42-41b5-a017-974b8c660a44",
   "metadata": {},
   "source": [
    "- The main idea in BPE is to convert text into an integer representation (token IDs) for LLM training (see [Chapter 2](https://github.com/rasbt/LLMs-from-scratch/blob/main/ch02/01_main-chapter-code/ch02.ipynb))\n",
    "\n",
    "<img src=\"https://sebastianraschka.com/images/LLMs-from-scratch-images/bonus/bpe-from-scratch/bpe-overview.webp\" width=\"600px\">"
   ]
  },
  {
   "cell_type": "markdown",
   "id": "760c625d-26a1-4896-98a2-0fdcd1591256",
   "metadata": {},
   "source": [
    "&nbsp;\n",
    "## 1.1 Bits and bytes"
   ]
  },
  {
   "cell_type": "markdown",
   "id": "d4ddaa35-0ed7-4012-827e-911de11c266c",
   "metadata": {},
   "source": [
    "- Before getting to the BPE algorithm, let's introduce the notion of bytes\n",
    "- Consider converting text into a byte array (BPE stands for \"byte\" pair encoding after all):"
   ]
  },
  {
   "cell_type": "code",
   "id": "8c9bc9e4-120f-4bac-8fa6-6523c568d12e",
   "metadata": {
    "ExecuteTime": {
     "end_time": "2025-08-15T21:14:04.776576Z",
     "start_time": "2025-08-15T21:14:04.771725Z"
    }
   },
   "source": [
    "text = \"This is some text\"\n",
    "byte_ary = bytearray(text, \"utf-8\")\n",
    "print(byte_ary)"
   ],
   "outputs": [
    {
     "name": "stdout",
     "output_type": "stream",
     "text": [
      "bytearray(b'This is some text')\n"
     ]
    }
   ],
   "execution_count": 1
  },
  {
   "cell_type": "markdown",
   "id": "dbd92a2a-9d74-4dc7-bb53-ac33d6cf2fab",
   "metadata": {},
   "source": [
    "- When we call `list()` on a `bytearray` object, each byte is treated as an individual element, and the result is a list of integers corresponding to the byte values:"
   ]
  },
  {
   "cell_type": "code",
   "id": "6c586945-d459-4f9a-855d-bf73438ef0e3",
   "metadata": {
    "ExecuteTime": {
     "end_time": "2025-08-15T21:14:12.410881Z",
     "start_time": "2025-08-15T21:14:12.406794Z"
    }
   },
   "source": [
    "ids = list(byte_ary)\n",
    "print(ids)"
   ],
   "outputs": [
    {
     "name": "stdout",
     "output_type": "stream",
     "text": [
      "[84, 104, 105, 115, 32, 105, 115, 32, 115, 111, 109, 101, 32, 116, 101, 120, 116]\n"
     ]
    }
   ],
   "execution_count": 2
  },
  {
   "cell_type": "markdown",
   "id": "71efea37-f4c3-4cb8-bfa5-9299175faf9a",
   "metadata": {},
   "source": [
    "- This would be a valid way to convert text into a token ID representation that we need for the embedding layer of an LLM\n",
    "- However, the downside of this approach is that it is creating one ID for each character (that's a lot of IDs for a short text!)\n",
    "- I.e., this means for a 17-character input text, we have to use 17 token IDs as input to the LLM:"
   ]
  },
  {
   "cell_type": "code",
   "id": "0d5b61d9-79a0-48b4-9b3e-64ab595c5b01",
   "metadata": {
    "ExecuteTime": {
     "end_time": "2025-08-15T21:14:20.845286Z",
     "start_time": "2025-08-15T21:14:20.840231Z"
    }
   },
   "source": [
    "print(\"Number of characters:\", len(text))\n",
    "print(\"Number of token IDs:\", len(ids))"
   ],
   "outputs": [
    {
     "name": "stdout",
     "output_type": "stream",
     "text": [
      "Number of characters: 17\n",
      "Number of token IDs: 17\n"
     ]
    }
   ],
   "execution_count": 3
  },
  {
   "cell_type": "markdown",
   "id": "68cc833a-c0d4-4d46-9180-c0042fd6addc",
   "metadata": {},
   "source": [
    "- If you have worked with LLMs before, you may know that the BPE tokenizers have a vocabulary where we have a token ID for whole words or subwords instead of each character\n",
    "- For example, the GPT-2 tokenizer tokenizes the same text (\"This is some text\") into only 4 instead of 17 tokens: `1212, 318, 617, 2420`\n",
    "- You can double-check this using the interactive [tiktoken app](https://tiktokenizer.vercel.app/?model=gpt2) or the [tiktoken library](https://github.com/openai/tiktoken):\n",
    "\n",
    "<img src=\"https://sebastianraschka.com/images/LLMs-from-scratch-images/bonus/bpe-from-scratch/tiktokenizer.webp\" width=\"600px\">\n",
    "\n",
    "```python\n",
    "import tiktoken\n",
    "\n",
    "gpt2_tokenizer = tiktoken.get_encoding(\"gpt2\")\n",
    "gpt2_tokenizer.encode(\"This is some text\")\n",
    "# prints [1212, 318, 617, 2420]\n",
    "```"
   ]
  },
  {
   "cell_type": "markdown",
   "id": "425b99de-cbfc-441c-8b3e-296a5dd7bb27",
   "metadata": {},
   "source": [
    "- Since a byte consists of 8 bits, there are 2<sup>8</sup> = 256 possible values that a single byte can represent, ranging from 0 to 255\n",
    "- You can confirm this by executing the code `bytearray(range(0, 257))`, which will warn you that `ValueError: byte must be in range(0, 256)`)\n",
    "- A BPE tokenizer usually uses these 256 values as its first 256 single-character tokens; one could visually check this by running the following code:\n",
    "\n",
    "```python\n",
    "import tiktoken\n",
    "gpt2_tokenizer = tiktoken.get_encoding(\"gpt2\")\n",
    "\n",
    "for i in range(300):\n",
    "    decoded = gpt2_tokenizer.decode([i])\n",
    "    print(f\"{i}: {decoded}\")\n",
    "\"\"\"\n",
    "prints:\n",
    "0: !\n",
    "1: \"\n",
    "2: #\n",
    "...\n",
    "255: �  # <---- single character tokens up to here\n",
    "256:  t\n",
    "257:  a\n",
    "...\n",
    "298: ent\n",
    "299:  n\n",
    "\"\"\"\n",
    "```"
   ]
  },
  {
   "cell_type": "markdown",
   "id": "97ff0207-7f8e-44fa-9381-2a4bd83daab3",
   "metadata": {},
   "source": [
    "- Above, note that entries 256 and 257 are not single-character values but double-character values (a whitespace + a letter), which is a little shortcoming of the original GPT-2 BPE Tokenizer (this has been improved in the GPT-4 tokenizer)"
   ]
  },
  {
   "cell_type": "markdown",
   "id": "8241c23a-d487-488d-bded-cdf054e24920",
   "metadata": {},
   "source": [
    "&nbsp;\n",
    "## 1.2 Building the vocabulary"
   ]
  },
  {
   "cell_type": "markdown",
   "id": "d7c2ceb7-0b3f-4a62-8dcc-07810cd8886e",
   "metadata": {},
   "source": [
    "- The goal of the BPE tokenization algorithm is to build a vocabulary of commonly occurring subwords like `298: ent` (which can be found in *entangle, entertain, enter, entrance, entity, ...*, for example), or even complete words like \n",
    "\n",
    "```\n",
    "318: is\n",
    "617: some\n",
    "1212: This\n",
    "2420: text\n",
    "```"
   ]
  },
  {
   "cell_type": "markdown",
   "id": "8c0d4420-a4c7-4813-916a-06f4f46bc3f0",
   "metadata": {},
   "source": [
    "- The BPE algorithm was originally described in 1994: \"[A New Algorithm for Data Compression](http://www.pennelynn.com/Documents/CUJ/HTML/94HTML/19940045.HTM)\" by Philip Gage\n",
    "- Before we get to the actual code implementation, the form that is used for LLM tokenizers today can be summarized as follows:"
   ]
  },
  {
   "cell_type": "markdown",
   "id": "ebc71db9-b070-48c4-8412-81f45b308ab3",
   "metadata": {},
   "source": [
    "&nbsp;\n",
    "## 1.3 BPE algorithm outline\n",
    "\n",
    "**1. Identify frequent pairs**\n",
    "- In each iteration, scan the text to find the most commonly occurring pair of bytes (or characters)\n",
    "\n",
    "**2. Replace and record**\n",
    "\n",
    "- Replace that pair with a new placeholder ID (one not already in use, e.g., if we start with 0...255, the first placeholder would be 256)\n",
    "- Record this mapping in a lookup table\n",
    "- The size of the lookup table is a hyperparameter, also called \"vocabulary size\" (for GPT-2, that's\n",
    "50,257)\n",
    "\n",
    "**3. Repeat until no gains**\n",
    "\n",
    "- Keep repeating steps 1 and 2, continually merging the most frequent pairs\n",
    "- Stop when no further compression is possible (e.g., no pair occurs more than once)\n",
    "\n",
    "**Decompression (decoding)**\n",
    "\n",
    "- To restore the original text, reverse the process by substituting each ID with its corresponding pair, using the lookup table\n",
    "\n"
   ]
  },
  {
   "cell_type": "markdown",
   "id": "e9f5ac9a-3528-4186-9468-8420c7b2ac00",
   "metadata": {},
   "source": [
    "&nbsp;\n",
    "## 1.4 BPE algorithm example\n",
    "\n",
    "### 1.4.1 Concrete example of the encoding part (steps 1 & 2)\n",
    "\n",
    "- Suppose we have the text (training dataset) `the cat in the hat` from which we want to build the vocabulary for a BPE tokenizer\n",
    "\n",
    "**Iteration 1**\n",
    "\n",
    "1. Identify frequent pairs\n",
    "  - In this text, \"th\" appears twice (at the beginning and before the second \"e\")\n",
    "\n",
    "2. Replace and record\n",
    "  - replace \"th\" with a new token ID that is not already in use, e.g., 256\n",
    "  - the new text is: `<256>e cat in <256>e hat`\n",
    "  - the new vocabulary is\n",
    "\n",
    "```\n",
    "  0: ...\n",
    "  ...\n",
    "  256: \"th\"\n",
    "```\n",
    "\n",
    "**Iteration 2**\n",
    "\n",
    "1. **Identify frequent pairs**  \n",
    "   - In the text `<256>e cat in <256>e hat`, the pair `<256>e` appears twice\n",
    "\n",
    "2. **Replace and record**  \n",
    "   - replace `<256>e` with a new token ID that is not already in use, for example, `257`.  \n",
    "   - The new text is:\n",
    "     ```\n",
    "     <257> cat in <257> hat\n",
    "     ```\n",
    "   - The updated vocabulary is:\n",
    "     ```\n",
    "     0: ...\n",
    "     ...\n",
    "     256: \"th\"\n",
    "     257: \"<256>e\"\n",
    "     ```\n",
    "\n",
    "**Iteration 3**\n",
    "\n",
    "1. **Identify frequent pairs**  \n",
    "   - In the text `<257> cat in <257> hat`, the pair `<257> ` appears twice (once at the beginning and once before “hat”).\n",
    "\n",
    "2. **Replace and record**  \n",
    "   - replace `<257> ` with a new token ID that is not already in use, for example, `258`.  \n",
    "   - the new text is:\n",
    "     ```\n",
    "     <258>cat in <258>hat\n",
    "     ```\n",
    "   - The updated vocabulary is:\n",
    "     ```\n",
    "     0: ...\n",
    "     ...\n",
    "     256: \"th\"\n",
    "     257: \"<256>e\"\n",
    "     258: \"<257> \"\n",
    "     ```\n",
    "     \n",
    "- and so forth\n",
    "\n",
    "&nbsp;\n",
    "### 1.4.2 Concrete example of the decoding part (steps 3)\n",
    "\n",
    "- To restore the original text, we reverse the process by substituting each token ID with its corresponding pair in the reverse order they were introduced\n",
    "- Start with the final compressed text: `<258>cat in <258>hat`\n",
    "-  Substitute `<258>` → `<257> `: `<257> cat in <257> hat`  \n",
    "- Substitute `<257>` → `<256>e`: `<256>e cat in <256>e hat`\n",
    "- Substitute `<256>` → \"th\": `the cat in the hat`"
   ]
  },
  {
   "cell_type": "markdown",
   "id": "a2324948-ddd0-45d1-8ba8-e8eda9fc6677",
   "metadata": {},
   "source": [
    "&nbsp;\n",
    "## 2. A simple BPE implementation"
   ]
  },
  {
   "cell_type": "markdown",
   "id": "429ca709-40d7-4e3d-bf3e-4f5687a2e19b",
   "metadata": {},
   "source": [
    "- Below is an implementation of this algorithm described above as a Python class that mimics the `tiktoken` Python user interface\n",
    "- Note that the encoding part above describes the original training step via `train()`; however, the `encode()` method works similarly (although it looks a bit more complicated because of the special token handling):\n",
    "\n",
    "1. Split the input text into individual bytes\n",
    "2. Repeatedly find & replace (merge) adjacent tokens (pairs) when they match any pair in the learned BPE merges (from highest to lowest \"rank,\" i.e., in the order they were learned)\n",
    "3. Continue merging until no more merges can be applied\n",
    "4. The final list of token IDs is the encoded output"
   ]
  },
  {
   "cell_type": "code",
   "id": "3e4a15ec-2667-4f56-b7c1-34e8071b621d",
   "metadata": {
    "ExecuteTime": {
     "end_time": "2025-08-15T21:15:21.838669Z",
     "start_time": "2025-08-15T21:15:21.817216Z"
    }
   },
   "source": [
    "from collections import Counter, deque\n",
    "from functools import lru_cache\n",
    "import json\n",
    "\n",
    "\n",
    "class BPETokenizerSimple:\n",
    "    def __init__(self):\n",
    "        # Maps token_id to token_str (e.g., {11246: \"some\"})\n",
    "        self.vocab = {}\n",
    "        # Maps token_str to token_id (e.g., {\"some\": 11246})\n",
    "        self.inverse_vocab = {}\n",
    "        # Dictionary of BPE merges: {(token_id1, token_id2): merged_token_id}\n",
    "        self.bpe_merges = {}\n",
    "\n",
    "    def train(self, text, vocab_size, allowed_special={\"<|endoftext|>\"}):\n",
    "        \"\"\"\n",
    "        Train the BPE tokenizer from scratch.\n",
    "\n",
    "        Args:\n",
    "            text (str): The training text.\n",
    "            vocab_size (int): The desired vocabulary size.\n",
    "            allowed_special (set): A set of special tokens to include.\n",
    "        \"\"\"\n",
    "\n",
    "        # Preprocess: Replace spaces with 'Ġ'\n",
    "        # Note that Ġ is a particularity of the GPT-2 BPE implementation\n",
    "        # E.g., \"Hello world\" might be tokenized as [\"Hello\", \"Ġworld\"]\n",
    "        # (GPT-4 BPE would tokenize it as [\"Hello\", \" world\"])\n",
    "        processed_text = []\n",
    "        for i, char in enumerate(text):\n",
    "            if char == \" \" and i != 0:\n",
    "                processed_text.append(\"Ġ\")\n",
    "            if char != \" \":\n",
    "                processed_text.append(char)\n",
    "        processed_text = \"\".join(processed_text)\n",
    "\n",
    "        # Initialize vocab with unique characters, including 'Ġ' if present\n",
    "        # Start with the first 256 ASCII characters\n",
    "        unique_chars = [chr(i) for i in range(256)]\n",
    "\n",
    "        # Extend unique_chars with characters from processed_text that are not already included\n",
    "        unique_chars.extend(char for char in sorted(set(processed_text)) if char not in unique_chars)\n",
    "\n",
    "        # Optionally, ensure 'Ġ' is included if it is relevant to your text processing\n",
    "        if 'Ġ' not in unique_chars:\n",
    "            unique_chars.append('Ġ')\n",
    "\n",
    "        # Now create the vocab and inverse vocab dictionaries\n",
    "        self.vocab = {i: char for i, char in enumerate(unique_chars)}\n",
    "        self.inverse_vocab = {char: i for i, char in self.vocab.items()}\n",
    "\n",
    "        # Add allowed special tokens\n",
    "        if allowed_special:\n",
    "            for token in allowed_special:\n",
    "                if token not in self.inverse_vocab:\n",
    "                    new_id = len(self.vocab)\n",
    "                    self.vocab[new_id] = token\n",
    "                    self.inverse_vocab[token] = new_id\n",
    "\n",
    "        # Tokenize the processed_text into token IDs\n",
    "        token_ids = [self.inverse_vocab[char] for char in processed_text]\n",
    "\n",
    "        # BPE steps 1-3: Repeatedly find and replace frequent pairs\n",
    "        for new_id in range(len(self.vocab), vocab_size):\n",
    "            pair_id = self.find_freq_pair(token_ids, mode=\"most\")\n",
    "            if pair_id is None:  # No more pairs to merge. Stopping training.\n",
    "                break\n",
    "            token_ids = self.replace_pair(token_ids, pair_id, new_id)\n",
    "            self.bpe_merges[pair_id] = new_id\n",
    "\n",
    "        # Build the vocabulary with merged tokens\n",
    "        for (p0, p1), new_id in self.bpe_merges.items():\n",
    "            merged_token = self.vocab[p0] + self.vocab[p1]\n",
    "            self.vocab[new_id] = merged_token\n",
    "            self.inverse_vocab[merged_token] = new_id\n",
    "\n",
    "    def load_vocab_and_merges_from_openai(self, vocab_path, bpe_merges_path):\n",
    "        \"\"\"\n",
    "        Load pre-trained vocabulary and BPE merges from OpenAI's GPT-2 files.\n",
    "\n",
    "        Args:\n",
    "            vocab_path (str): Path to the vocab file (GPT-2 calls it 'encoder.json').\n",
    "            bpe_merges_path (str): Path to the bpe_merges file  (GPT-2 calls it 'vocab.bpe').\n",
    "        \"\"\"\n",
    "        # Load vocabulary\n",
    "        with open(vocab_path, \"r\", encoding=\"utf-8\") as file:\n",
    "            loaded_vocab = json.load(file)\n",
    "            # loaded_vocab maps token_str to token_id\n",
    "            self.vocab = {int(v): k for k, v in loaded_vocab.items()}  # token_id: token_str\n",
    "            self.inverse_vocab = {k: int(v) for k, v in loaded_vocab.items()}  # token_str: token_id\n",
    "\n",
    "        # Load BPE merges\n",
    "        with open(bpe_merges_path, \"r\", encoding=\"utf-8\") as file:\n",
    "            lines = file.readlines()\n",
    "            # Skip header line if present\n",
    "            if lines and lines[0].startswith(\"#\"):\n",
    "                lines = lines[1:]\n",
    "\n",
    "            for rank, line in enumerate(lines):\n",
    "                pair = tuple(line.strip().split())\n",
    "                if len(pair) != 2:\n",
    "                    print(f\"Line {rank+1} has more than 2 entries: {line.strip()}\")\n",
    "                    continue\n",
    "                token1, token2 = pair\n",
    "                if token1 in self.inverse_vocab and token2 in self.inverse_vocab:\n",
    "                    token_id1 = self.inverse_vocab[token1]\n",
    "                    token_id2 = self.inverse_vocab[token2]\n",
    "                    merged_token = token1 + token2\n",
    "                    if merged_token in self.inverse_vocab:\n",
    "                        merged_token_id = self.inverse_vocab[merged_token]\n",
    "                        self.bpe_merges[(token_id1, token_id2)] = merged_token_id\n",
    "                        # print(f\"Loaded merge: '{token1}' + '{token2}' -> '{merged_token}' (ID: {merged_token_id})\")\n",
    "                    else:\n",
    "                        print(f\"Merged token '{merged_token}' not found in vocab. Skipping.\")\n",
    "                else:\n",
    "                    print(f\"Skipping pair {pair} as one of the tokens is not in the vocabulary.\")\n",
    "\n",
    "    def encode(self, text):\n",
    "        \"\"\"\n",
    "        Encode the input text into a list of token IDs.\n",
    "\n",
    "        Args:\n",
    "            text (str): The text to encode.\n",
    "\n",
    "        Returns:\n",
    "            List[int]: The list of token IDs.\n",
    "        \"\"\"\n",
    "        tokens = []\n",
    "        # Split text into tokens, keeping newlines intact\n",
    "        words = text.replace(\"\\n\", \" \\n \").split()  # Ensure '\\n' is treated as a separate token\n",
    "\n",
    "        for i, word in enumerate(words):\n",
    "            if i > 0 and not word.startswith(\"\\n\"):\n",
    "                tokens.append(\"Ġ\" + word)  # Add 'Ġ' to words that follow a space or newline\n",
    "            else:\n",
    "                tokens.append(word)  # Handle first word or standalone '\\n'\n",
    "\n",
    "        token_ids = []\n",
    "        for token in tokens:\n",
    "            if token in self.inverse_vocab:\n",
    "                # token is contained in the vocabulary as is\n",
    "                token_id = self.inverse_vocab[token]\n",
    "                token_ids.append(token_id)\n",
    "            else:\n",
    "                # Attempt to handle subword tokenization via BPE\n",
    "                sub_token_ids = self.tokenize_with_bpe(token)\n",
    "                token_ids.extend(sub_token_ids)\n",
    "\n",
    "        return token_ids\n",
    "\n",
    "    def tokenize_with_bpe(self, token):\n",
    "        \"\"\"\n",
    "        Tokenize a single token using BPE merges.\n",
    "\n",
    "        Args:\n",
    "            token (str): The token to tokenize.\n",
    "\n",
    "        Returns:\n",
    "            List[int]: The list of token IDs after applying BPE.\n",
    "        \"\"\"\n",
    "        # Tokenize the token into individual characters (as initial token IDs)\n",
    "        token_ids = [self.inverse_vocab.get(char, None) for char in token]\n",
    "        if None in token_ids:\n",
    "            missing_chars = [char for char, tid in zip(token, token_ids) if tid is None]\n",
    "            raise ValueError(f\"Characters not found in vocab: {missing_chars}\")\n",
    "\n",
    "        can_merge = True\n",
    "        while can_merge and len(token_ids) > 1:\n",
    "            can_merge = False\n",
    "            new_tokens = []\n",
    "            i = 0\n",
    "            while i < len(token_ids) - 1:\n",
    "                pair = (token_ids[i], token_ids[i + 1])\n",
    "                if pair in self.bpe_merges:\n",
    "                    merged_token_id = self.bpe_merges[pair]\n",
    "                    new_tokens.append(merged_token_id)\n",
    "                    # Uncomment for educational purposes:\n",
    "                    # print(f\"Merged pair {pair} -> {merged_token_id} ('{self.vocab[merged_token_id]}')\")\n",
    "                    i += 2  # Skip the next token as it's merged\n",
    "                    can_merge = True\n",
    "                else:\n",
    "                    new_tokens.append(token_ids[i])\n",
    "                    i += 1\n",
    "            if i < len(token_ids):\n",
    "                new_tokens.append(token_ids[i])\n",
    "            token_ids = new_tokens\n",
    "\n",
    "        return token_ids\n",
    "\n",
    "    def decode(self, token_ids):\n",
    "        \"\"\"\n",
    "        Decode a list of token IDs back into a string.\n",
    "\n",
    "        Args:\n",
    "            token_ids (List[int]): The list of token IDs to decode.\n",
    "\n",
    "        Returns:\n",
    "            str: The decoded string.\n",
    "        \"\"\"\n",
    "        decoded_string = \"\"\n",
    "        for token_id in token_ids:\n",
    "            if token_id not in self.vocab:\n",
    "                raise ValueError(f\"Token ID {token_id} not found in vocab.\")\n",
    "            token = self.vocab[token_id]\n",
    "            if token.startswith(\"Ġ\"):\n",
    "                # Replace 'Ġ' with a space\n",
    "                decoded_string += \" \" + token[1:]\n",
    "            else:\n",
    "                decoded_string += token\n",
    "        return decoded_string\n",
    "\n",
    "    def save_vocab_and_merges(self, vocab_path, bpe_merges_path):\n",
    "        \"\"\"\n",
    "        Save the vocabulary and BPE merges to JSON files.\n",
    "\n",
    "        Args:\n",
    "            vocab_path (str): Path to save the vocabulary.\n",
    "            bpe_merges_path (str): Path to save the BPE merges.\n",
    "        \"\"\"\n",
    "        # Save vocabulary\n",
    "        with open(vocab_path, \"w\", encoding=\"utf-8\") as file:\n",
    "            json.dump({k: v for k, v in self.vocab.items()}, file, ensure_ascii=False, indent=2)\n",
    "\n",
    "        # Save BPE merges as a list of dictionaries\n",
    "        with open(bpe_merges_path, \"w\", encoding=\"utf-8\") as file:\n",
    "            merges_list = [{\"pair\": list(pair), \"new_id\": new_id}\n",
    "                           for pair, new_id in self.bpe_merges.items()]\n",
    "            json.dump(merges_list, file, ensure_ascii=False, indent=2)\n",
    "\n",
    "    def load_vocab_and_merges(self, vocab_path, bpe_merges_path):\n",
    "        \"\"\"\n",
    "        Load the vocabulary and BPE merges from JSON files.\n",
    "\n",
    "        Args:\n",
    "            vocab_path (str): Path to the vocabulary file.\n",
    "            bpe_merges_path (str): Path to the BPE merges file.\n",
    "        \"\"\"\n",
    "        # Load vocabulary\n",
    "        with open(vocab_path, \"r\", encoding=\"utf-8\") as file:\n",
    "            loaded_vocab = json.load(file)\n",
    "            self.vocab = {int(k): v for k, v in loaded_vocab.items()}\n",
    "            self.inverse_vocab = {v: int(k) for k, v in loaded_vocab.items()}\n",
    "\n",
    "        # Load BPE merges\n",
    "        with open(bpe_merges_path, \"r\", encoding=\"utf-8\") as file:\n",
    "            merges_list = json.load(file)\n",
    "            for merge in merges_list:\n",
    "                pair = tuple(merge['pair'])\n",
    "                new_id = merge['new_id']\n",
    "                self.bpe_merges[pair] = new_id\n",
    "\n",
    "    @lru_cache(maxsize=None)\n",
    "    def get_special_token_id(self, token):\n",
    "        return self.inverse_vocab.get(token, None)\n",
    "\n",
    "    @staticmethod\n",
    "    def find_freq_pair(token_ids, mode=\"most\"):\n",
    "        pairs = Counter(zip(token_ids, token_ids[1:]))\n",
    "\n",
    "        if mode == \"most\":\n",
    "            return max(pairs.items(), key=lambda x: x[1])[0]\n",
    "        elif mode == \"least\":\n",
    "            return min(pairs.items(), key=lambda x: x[1])[0]\n",
    "        else:\n",
    "            raise ValueError(\"Invalid mode. Choose 'most' or 'least'.\")\n",
    "\n",
    "    @staticmethod\n",
    "    def replace_pair(token_ids, pair_id, new_id):\n",
    "        dq = deque(token_ids)\n",
    "        replaced = []\n",
    "\n",
    "        while dq:\n",
    "            current = dq.popleft()\n",
    "            if dq and (current, dq[0]) == pair_id:\n",
    "                replaced.append(new_id)\n",
    "                # Remove the 2nd token of the pair, 1st was already removed\n",
    "                dq.popleft()\n",
    "            else:\n",
    "                replaced.append(current)\n",
    "\n",
    "        return replaced"
   ],
   "outputs": [],
   "execution_count": 4
  },
  {
   "cell_type": "markdown",
   "id": "46db7310-79c7-4ee0-b5fa-d760c6e1aa67",
   "metadata": {},
   "source": [
    "- There is a lot of code in the `BPETokenizerSimple` class above, and discussing it in detail is out of scope for this notebook, but the next section offers a short overview of the usage to understand the class methods a bit better"
   ]
  },
  {
   "cell_type": "markdown",
   "id": "8ffe1836-eed4-40dc-860b-2d23074d067e",
   "metadata": {},
   "source": [
    "## 3. BPE implementation walkthrough"
   ]
  },
  {
   "cell_type": "markdown",
   "id": "3c7c996c-fd34-484f-a877-13d977214cf7",
   "metadata": {},
   "source": [
    "- In practice, I highly recommend using [tiktoken](https://github.com/openai/tiktoken) as my implementation above focuses on readability and educational purposes, not on performance\n",
    "- However, the usage is more or less similar to tiktoken, except that tiktoken does not have a training method\n",
    "- Let's see how my `BPETokenizerSimple` Python code above works by looking at some examples below (a detailed code discussion is out of scope for this notebook)"
   ]
  },
  {
   "cell_type": "markdown",
   "id": "e82acaf6-7ed5-4d3b-81c0-ae4d3559d2c7",
   "metadata": {},
   "source": [
    "### 3.1 Training, encoding, and decoding"
   ]
  },
  {
   "cell_type": "markdown",
   "id": "962bf037-903e-4555-b09c-206e1a410278",
   "metadata": {},
   "source": [
    "- First, let's consider some sample text as our training dataset:"
   ]
  },
  {
   "cell_type": "code",
   "id": "4d197cad-ed10-4a42-b01c-a763859781fb",
   "metadata": {
    "ExecuteTime": {
     "end_time": "2025-08-15T21:15:25.437378Z",
     "start_time": "2025-08-15T21:15:25.432522Z"
    }
   },
   "source": [
    "import os\n",
    "import urllib.request\n",
    "\n",
    "if not os.path.exists(\"../01_main-chapter-code/the-verdict.txt\"):\n",
    "    url = (\"https://raw.githubusercontent.com/rasbt/\"\n",
    "           \"LLMs-from-scratch/main/ch02/01_main-chapter-code/\"\n",
    "           \"the-verdict.txt\")\n",
    "    file_path = \"../01_main-chapter-code/the-verdict.txt\"\n",
    "    urllib.request.urlretrieve(url, file_path)\n",
    "\n",
    "with open(\"../01_main-chapter-code/the-verdict.txt\", \"r\", encoding=\"utf-8\") as f: # added ../01_main-chapter-code/\n",
    "    text = f.read()"
   ],
   "outputs": [],
   "execution_count": 5
  },
  {
   "cell_type": "markdown",
   "id": "04d1b6ac-71d3-4817-956a-9bc7e463a84a",
   "metadata": {},
   "source": [
    "- Next, let's initialize and train the BPE tokenizer with a vocabulary size of 1,000\n",
    "- Note that the vocabulary size is already 255 by default due to the byte values discussed earlier, so we are only \"learning\" 745 vocabulary entries \n",
    "- For comparison, the GPT-2 vocabulary is 50,257 tokens, the GPT-4 vocabulary is 100,256 tokens (`cl100k_base` in tiktoken), and GPT-4o uses 199,997 tokens (`o200k_base` in tiktoken); they have all much bigger training sets compared to our simple example text above"
   ]
  },
  {
   "cell_type": "code",
   "id": "027348fd-d52f-4396-93dd-38eed142df9b",
   "metadata": {
    "ExecuteTime": {
     "end_time": "2025-08-15T21:15:31.128771Z",
     "start_time": "2025-08-15T21:15:29.484432Z"
    }
   },
   "source": [
    "tokenizer = BPETokenizerSimple()\n",
    "tokenizer.train(text, vocab_size=1000, allowed_special={\"<|endoftext|>\"})"
   ],
   "outputs": [],
   "execution_count": 6
  },
  {
   "cell_type": "markdown",
   "id": "2474ff05-5629-4f13-9e03-a47b1e713850",
   "metadata": {},
   "source": [
    "- You may want to inspect the vocabulary contents (but note it will create a long list)"
   ]
  },
  {
   "cell_type": "code",
   "id": "f705a283-355e-4460-b940-06bbc2ae4e61",
   "metadata": {
    "ExecuteTime": {
     "end_time": "2025-08-15T21:15:32.908635Z",
     "start_time": "2025-08-15T21:15:32.903632Z"
    }
   },
   "source": [
    "print(tokenizer.vocab)\n",
    "print(len(tokenizer.vocab))"
   ],
   "outputs": [
    {
     "name": "stdout",
     "output_type": "stream",
     "text": [
      "{0: '\\x00', 1: '\\x01', 2: '\\x02', 3: '\\x03', 4: '\\x04', 5: '\\x05', 6: '\\x06', 7: '\\x07', 8: '\\x08', 9: '\\t', 10: '\\n', 11: '\\x0b', 12: '\\x0c', 13: '\\r', 14: '\\x0e', 15: '\\x0f', 16: '\\x10', 17: '\\x11', 18: '\\x12', 19: '\\x13', 20: '\\x14', 21: '\\x15', 22: '\\x16', 23: '\\x17', 24: '\\x18', 25: '\\x19', 26: '\\x1a', 27: '\\x1b', 28: '\\x1c', 29: '\\x1d', 30: '\\x1e', 31: '\\x1f', 32: ' ', 33: '!', 34: '\"', 35: '#', 36: '$', 37: '%', 38: '&', 39: \"'\", 40: '(', 41: ')', 42: '*', 43: '+', 44: ',', 45: '-', 46: '.', 47: '/', 48: '0', 49: '1', 50: '2', 51: '3', 52: '4', 53: '5', 54: '6', 55: '7', 56: '8', 57: '9', 58: ':', 59: ';', 60: '<', 61: '=', 62: '>', 63: '?', 64: '@', 65: 'A', 66: 'B', 67: 'C', 68: 'D', 69: 'E', 70: 'F', 71: 'G', 72: 'H', 73: 'I', 74: 'J', 75: 'K', 76: 'L', 77: 'M', 78: 'N', 79: 'O', 80: 'P', 81: 'Q', 82: 'R', 83: 'S', 84: 'T', 85: 'U', 86: 'V', 87: 'W', 88: 'X', 89: 'Y', 90: 'Z', 91: '[', 92: '\\\\', 93: ']', 94: '^', 95: '_', 96: '`', 97: 'a', 98: 'b', 99: 'c', 100: 'd', 101: 'e', 102: 'f', 103: 'g', 104: 'h', 105: 'i', 106: 'j', 107: 'k', 108: 'l', 109: 'm', 110: 'n', 111: 'o', 112: 'p', 113: 'q', 114: 'r', 115: 's', 116: 't', 117: 'u', 118: 'v', 119: 'w', 120: 'x', 121: 'y', 122: 'z', 123: '{', 124: '|', 125: '}', 126: '~', 127: '\\x7f', 128: '\\x80', 129: '\\x81', 130: '\\x82', 131: '\\x83', 132: '\\x84', 133: '\\x85', 134: '\\x86', 135: '\\x87', 136: '\\x88', 137: '\\x89', 138: '\\x8a', 139: '\\x8b', 140: '\\x8c', 141: '\\x8d', 142: '\\x8e', 143: '\\x8f', 144: '\\x90', 145: '\\x91', 146: '\\x92', 147: '\\x93', 148: '\\x94', 149: '\\x95', 150: '\\x96', 151: '\\x97', 152: '\\x98', 153: '\\x99', 154: '\\x9a', 155: '\\x9b', 156: '\\x9c', 157: '\\x9d', 158: '\\x9e', 159: '\\x9f', 160: '\\xa0', 161: '¡', 162: '¢', 163: '£', 164: '¤', 165: '¥', 166: '¦', 167: '§', 168: '¨', 169: '©', 170: 'ª', 171: '«', 172: '¬', 173: '\\xad', 174: '®', 175: '¯', 176: '°', 177: '±', 178: '²', 179: '³', 180: '´', 181: 'µ', 182: '¶', 183: '·', 184: '¸', 185: '¹', 186: 'º', 187: '»', 188: '¼', 189: '½', 190: '¾', 191: '¿', 192: 'À', 193: 'Á', 194: 'Â', 195: 'Ã', 196: 'Ä', 197: 'Å', 198: 'Æ', 199: 'Ç', 200: 'È', 201: 'É', 202: 'Ê', 203: 'Ë', 204: 'Ì', 205: 'Í', 206: 'Î', 207: 'Ï', 208: 'Ð', 209: 'Ñ', 210: 'Ò', 211: 'Ó', 212: 'Ô', 213: 'Õ', 214: 'Ö', 215: '×', 216: 'Ø', 217: 'Ù', 218: 'Ú', 219: 'Û', 220: 'Ü', 221: 'Ý', 222: 'Þ', 223: 'ß', 224: 'à', 225: 'á', 226: 'â', 227: 'ã', 228: 'ä', 229: 'å', 230: 'æ', 231: 'ç', 232: 'è', 233: 'é', 234: 'ê', 235: 'ë', 236: 'ì', 237: 'í', 238: 'î', 239: 'ï', 240: 'ð', 241: 'ñ', 242: 'ò', 243: 'ó', 244: 'ô', 245: 'õ', 246: 'ö', 247: '÷', 248: 'ø', 249: 'ù', 250: 'ú', 251: 'û', 252: 'ü', 253: 'ý', 254: 'þ', 255: 'ÿ', 256: 'Ġ', 257: '<|endoftext|>', 258: 'eĠ', 259: 'Ġt', 260: 'dĠ', 261: 'tĠ', 262: 'in', 263: 'sĠ', 264: 'heĠ', 265: 'ha', 266: ',Ġ', 267: 'ou', 268: 'er', 269: 'an', 270: 'on', 271: 'en', 272: 'ĠtheĠ', 273: 'yĠ', 274: '.Ġ', 275: 'oĠ', 276: 'ing', 277: 'hi', 278: 'it', 279: 'edĠ', 280: 'IĠ', 281: 'of', 282: 'wa', 283: 'st', 284: '--', 285: 're', 286: 'or', 287: 'Ġa', 288: '\\n\\n', 289: 'at', 290: 'el', 291: 'ar', 292: 'andĠ', 293: 'ur', 294: 'ĠtoĠ', 295: 'ow', 296: 'be', 297: 'ofĠ', 298: 'ingĠ', 299: 'is', 300: 'hisĠ', 301: 'al', 302: 'ac', 303: 'Ġth', 304: 'ic', 305: 'om', 306: 'gh', 307: 'eĠt', 308: 'hatĠ', 309: 'wasĠ', 310: 'aĠ', 311: 'ed', 312: 'enĠ', 313: 'her', 314: 'hadĠ', 315: 'es', 316: 'us', 317: '.\\n\\n', 318: 'ain', 319: 'him', 320: 'itĠ', 321: 'Ġs', 322: 'veĠ', 323: 'as', 324: 'ir', 325: 'myĠ', 326: 'li', 327: 'ch', 328: 'le', 329: 'wit', 330: 'with', 331: 'id', 332: \"'sĠ\", 333: 'ra', 334: 'rou', 335: 'ro', 336: 'rs', 337: 'sa', 338: 'ab', 339: 'oul', 340: 'ĠthatĠ', 341: '\"\\n\\n', 342: 'ĠaĠ', 343: 'ion', 344: 'ver', 345: 'se', 346: 'you', 347: '.\\n\\n\"', 348: 'he', 349: 'orĠ', 350: 'de', 351: 'urn', 352: 'fĠ', 353: 'll', 354: 'ter', 355: 'leĠ', 356: 'up', 357: 'no', 358: 'ly', 359: \"'tĠ\", 360: 'ent', 361: 'ne', 362: 'me', 363: 'ack', 364: 'oo', 365: 'oneĠ', 366: 'haveĠ', 367: 'utĠ', 368: 'wh', 369: 'lyĠ', 370: 'asĠ', 371: 'pain', 372: 'la', 373: 'burn', 374: 't,Ġ', 375: 'Mrs', 376: 'Mrs.Ġ', 377: 'un', 378: 'own', 379: 'ofĠtheĠ', 380: 'ĠandĠ', 381: 'was', 382: '.\"\\n\\n', 383: 'Gis', 384: 'Gisburn', 385: 'eĠtoĠ', 386: ',ĠandĠ', 387: 'onĠ', 388: 'ict', 389: 'meĠ', 390: 'ec', 391: 'trou', 392: 'ell', 393: '\"Ġ', 394: 'qu', 395: 'herĠ', 396: 'and', 397: 'su', 398: \"n'tĠ\", 399: 'Strou', 400: 'ghtĠ', 401: 'owĠ', 402: 'ouldĠ', 403: 'Ġthe', 404: 'inĠ', 405: ':Ġ', 406: 'youĠ', 407: 'ke', 408: '.Ġ.Ġ', 409: 'est', 410: 'sel', 411: 'iv', 412: 'pict', 413: 'for', 414: 'ad', 415: 'res', 416: 'ol', 417: 'paint', 418: 'TheĠ', 419: 'anĠ', 420: 'os', 421: 'mi', 422: 'outĠ', 423: ',ĠIĠ', 424: 'Jack', 425: 'Ġtha', 426: 'tĠtheĠ', 427: 'all', 428: 'ca', 429: 'ation', 430: 'don', 431: 'ĠofĠ', 432: 'fac', 433: '!Ġ', 434: 'entĠ', 435: 'der', 436: 'e,Ġ', 437: 'HeĠ', 438: 'th', 439: 'pp', 440: 'eĠofĠ', 441: 'ndĠ', 442: 'our', 443: 'anc', 444: 'y.Ġ', 445: 'ind', 446: 'himĠ', 447: 'esĠ', 448: 'ustĠ', 449: 'idĠ', 450: 'wer', 451: 'sh', 452: 'ook', 453: 'withĠ', 454: 'not', 455: 'sheĠ', 456: 'ever', 457: 'soĠ', 458: 'inĠtheĠ', 459: 'ri', 460: 'IĠc', 461: 'ex', 462: 'look', 463: 'eĠtheĠ', 464: 'byĠ', 465: 'ut', 466: 'nd', 467: 'dis', 468: 'ItĠ', 469: 'we', 470: 'Ġto', 471: 'Mrs.ĠGisburn', 472: 'edĠtoĠ', 473: 'mo', 474: 'ill', 475: 'beenĠ', 476: 'arĠ', 477: 'pl', 478: 'butĠ', 479: 'ey', 480: 'ag', 481: 'ev', 482: 'im', 483: 'ong', 484: '?Ġ', 485: 'wĠ', 486: 'cur', 487: ';ĠandĠ', 488: 'po', 489: '_Ġ', 490: 'str', 491: 'ght', 492: 'forĠ', 493: 'ould', 494: 'tch', 495: 'gre', 496: 'pr', 497: 'ouldĠhaveĠ', 498: '--t', 499: 'cou', 500: 'ureĠ', 501: 'kĠ', 502: 'ick', 503: 'wor', 504: ':Ġ\"', 505: 'lik', 506: 'com', 507: 'justĠ', 508: 'ot', 509: '-c', 510: 'am', 511: 'IĠhadĠ', 512: 'ousĠ', 513: 'kn', 514: \"ouldn'tĠ\", 515: 'Stroud', 516: 'way', 517: 'heĠhadĠ', 518: 'himsel', 519: ';Ġ', 520: 'ul', 521: 'ct', 522: 'notĠ', 523: 'rough', 524: ',ĠtheĠ', 525: 'useĠ', 526: 'if', 527: 'down', 528: 'beca', 529: 'did', 530: 'ant', 531: 'br', 532: 'ay', 533: 'ig', 534: 'heĠwasĠ', 535: 'withĠaĠ', 536: 'under', 537: 'seeĠ', 538: 'room', 539: 'whenĠ', 540: 'StroudĠ', 541: 'ough', 542: 'Th', 543: 'edĠit', 544: 'las', 545: 'pictureĠ', 546: 'isĠ', 547: 's,Ġ', 548: 'AndĠ', 549: 'say', 550: 'ear', 551: 'IĠf', 552: 'alĠ', 553: 'ous', 554: 'fa', 555: 'pre', 556: 'il', 557: 'lif', 558: 'back', 559: 'int', 560: 'bet', 561: 'my', 562: 'ath', 563: 'ifĠ', 564: 'Ġther', 565: 'bl', 566: 'rom', 567: 'um', 568: 'ect', 569: 'pictu', 570: 'min', 571: 'said', 572: 'SheĠ', 573: 'out', 574: 'hereĠ', 575: 'kne', 576: 'ov', 577: 'oldĠ', 578: 'et', 579: 'yĠofĠ', 580: 'itĠwasĠ', 581: 'noĠ', 582: 'atĠ', 583: 'sur', 584: 'hear', 585: 'Ġthat,Ġ', 586: 'gl', 587: 'hedĠ', 588: 'wouldĠhaveĠ', 589: 'omeĠ', 590: 'Rick', 591: 'Rickha', 592: 'Rickham', 593: 'ĠtheyĠ', 594: 's.Ġ', 595: 'Ġthrough', 596: 'itt', 597: 'ĠhisĠ', 598: 'Ġf', 599: 'ess', 600: 'h,Ġ', 601: 'dĠtoĠ', 602: 'di', 603: 'lat', 604: 'dd', 605: 'been', 606: 'eas', 607: 'edĠtheĠ', 608: \"Jack'sĠ\", 609: 'ak', 610: 'eĠthatĠ', 611: 'inc', 612: 'e--', 613: 'becauseĠ', 614: 'ly,Ġ', 615: 'ed,Ġ', 616: 'whatĠ', 617: 'ButĠ', 618: '--andĠ', 619: 'rac', 620: 'e.Ġ', 621: 'fo', 622: 'onlyĠ', 623: ',\"Ġ', 624: 'over', 625: '.ĠTheĠ', 626: 'iousĠ', 627: '.\\n\\n\"O', 628: 'youĠkn', 629: 'edĠup', 630: 'oughtĠ', 631: 'rat', 632: 'edĠhisĠ', 633: 'painting', 634: 'himselfĠ', 635: 'wom', 636: 'wing', 637: 'ableĠ', 638: 'cours', 639: \"'t\", 640: 'whoĠ', 641: 'atĠtheĠ', 642: 'show', 643: 'Well', 644: 'Ġthat', 645: 'nĠ', 646: 'litt', 647: 'lau', 648: 'oseĠ', 649: 'oc', 650: 'ItĠwasĠ', 651: 'ek', 652: \"'Ġ\", 653: 'giv', 654: 'em', 655: 'pro', 656: 'dra', 657: '--asĠ', 658: 'fter', 659: 'con', 660: 'beĠ', 661: 'indĠ', 662: 'Ġp', 663: 'hav', 664: 'betwe', 665: 'Ġtheir', 666: 'elyĠ', 667: 'ep', 668: 'ood', 669: 'bj', 670: 'putĠ', 671: 'oneĠofĠtheĠ', 672: 'sĠofĠ', 673: 'uc', 674: 'fir', 675: 'me,Ġ', 676: 'es--', 677: 'Ġab', 678: 'Gr', 679: 'Grind', 680: 'stro', 681: 'iveĠ', 682: 'Wh', 683: 'do', 684: 'fra', 685: 'everĠ', 686: '.\"\\n\\n\"', 687: 'IĠwasĠ', 688: 'work', 689: '?\"\\n\\n', 690: 'donke', 691: 'watch', 692: 'ĠthoughtĠ', 693: 'JackĠ', 694: 'enough', 695: 'pris', 696: 'y,Ġ', 697: 'hĠ', 698: 'inĠaĠ', 699: 'onĠtheĠ', 700: '--hisĠ', 701: 'lastĠ', 702: 'itter', 703: 'OfĠ', 704: 'OfĠcours', 705: 'end', 706: '--theĠ', 707: 'wereĠ', 708: 'ist', 709: 'adĠ', 710: 'rof', 711: 'again', 712: 'IĠfel', 713: 'IĠfeltĠ', 714: 'ourĠ', 715: 'icat', 716: 'hand', 717: 'alit', 718: 'ĠthatĠIĠ', 719: 'IĠw', 720: ',ĠasĠ', 721: 'givenĠ', 722: 'wif', 723: 'hadĠbeenĠ', 724: 'such', 725: 'illĠ', 726: \"didn'tĠ\", 727: 'ĠtoĠtheĠ', 728: 'intoĠ', 729: 'self', 730: 'day', 731: 'ound', 732: 'estĠ', 733: 'ff', 734: 'per', 735: 'ingĠf', 736: 'eĠaĠ', 737: 'ru', 738: 'pe', 739: 'op', 740: 'gan', 741: 'him,Ġ', 742: 'anĠa', 743: 'ros', 744: 'erĠ', 745: 'light', 746: 'alway', 747: 'alwaysĠ', 748: 'Ġthing', 749: 'nowĠ', 750: 'mil', 751: \"I'\", 752: 'ingĠtheĠ', 753: 'it,Ġ', 754: 'ĠtoĠhaveĠ', 755: '-room', 756: 'IĠt', 757: 'pan', 758: 'youĠknow', 759: ',\"', 760: 'saidĠ', 761: 'whi', 762: 'pictures', 763: 'had', 764: \"he'sĠ\", 765: 'ort', 766: 'ortra', 767: 'cha', 768: 'laugh', 769: 'man', 770: 'eyesĠ', 771: 'aĠs', 772: 'paintĠ', 773: 'ellĠ', 774: 'happ', 775: 'ĠthereĠ', 776: 'che', 777: 'oodĠ', 778: 'glor', 779: 'mar', 780: 'riedĠ', 781: 'ier', 782: 'itĠwouldĠhaveĠ', 783: '\\n\\n\"', 784: 'ide', 785: 'goĠ', 786: 'ingĠhisĠ', 787: 'ation.Ġ', 788: ';ĠbutĠ', 789: 'Ġthin', 790: 'ti', 791: 'edĠinĠ', 792: 'essĠ', 793: 'ed.Ġ', 794: 'iteĠ', 795: 'Crof', 796: 'earsĠ', 797: 'llĠ', 798: \"'s\", 799: 'Ġtra', 800: 'deĠ', 801: 'ftĠ', 802: 'edĠbyĠ', 803: 'littleĠ', 804: 'ton', 805: 'someĠ', 806: 'kedĠ', 807: 'sayĠ', 808: 'ionĠ', 809: 'allyĠ', 810: 'wentĠ', 811: 'onder', 812: '.ĠT', 813: 'ĠtooĠ', 814: 'gg', 815: 'edĠhimĠ', 816: 'edĠt', 817: 'mightĠ', 818: 'want', 819: 'fail', 820: 'inter', 821: 'interest', 822: 'ure', 823: 'teĠ', 824: 'arl', 825: 'ps', 826: 'ust', 827: ',ĠIĠhadĠ', 828: 'orn', 829: 'nex', 830: 'IĠm', 831: 'ctiv', 832: 'dead', 833: '.\\n\\nIĠ', 834: 'atis', 835: 'fact', 836: 'etĠ', 837: 'ectĠ', 838: 'bre', 839: 'ans', 840: 'obj', 841: 'Ġar', 842: 'oĠtheĠ', 843: 'laidĠ', 844: 'Ġfrom', 845: 'downĠ', 846: 'ten', 847: 'Ġthem', 848: 'aboutĠ', 849: 'Grindle', 850: 'eĠf', 851: 'lay', 852: 'hadĠl', 853: '?\"Ġ', 854: ',\"Ġs', 855: ',\"ĠsheĠ', 856: 'imp', 857: 'tain', 858: 'ĠaĠs', 859: '.ĠHeĠ', 860: 'reĠ', 861: 'portra', 862: 'it--', 863: 'HisĠ', 864: 'hisĠpictures', 865: 'whereĠ', 866: 'ness', 867: 'bleĠ', 868: 'mov', 869: 'ard', 870: 'hair', 871: 'manag', 872: '-p', 873: 'letĠ', 874: 'ainĠ', 875: 'plac', 876: 'ĠthroughĠ', 877: 'hal', 878: 'allĠtheĠ', 879: 'uch', 880: 'cl', 881: 'whenĠIĠ', 882: 'fore', 883: 'heĠwas', 884: 'began', 885: 'arm', 886: 'pect', 887: 'howĠ', 888: 'endĠ', 889: 'cr', 890: 'ĠatĠtheĠ', 891: 'never', 892: 'cover', 893: 'ketch', 894: 'beh', 895: \"n't\", 896: '.Ġ.Ġ.Ġ.Ġ', 897: 'poorĠ', 898: 'poorĠStroud', 899: 'nearĠ', 900: 'knewĠ', 901: 'happen', 902: \"IĠcouldn'tĠ\", 903: 'edĠme', 904: 'ratherĠ', 905: 'ĠtellĠ', 906: 'Ġtw', 907: 'off', 908: 'saw', 909: 'stroke', 910: 'cre', 911: 'GisburnĠ', 912: 'eni', 913: 'surpris', 914: 'meĠtoĠ', 915: 'Ġthat,ĠinĠtheĠ', 916: 'ightĠ', 917: 'marriedĠ', 918: 'abl', 919: 'Riv', 920: 'Rivier', 921: 'itĠwouldĠhaveĠbeenĠ', 922: '--thatĠ', 923: 'womenĠ', 924: 'call', 925: 'Thwing', 926: 'coun', 927: 'OfĠcourseĠ', 928: \"it'sĠ\", 929: 'go', 930: 'ingĠtoĠ', 931: 'wayĠ', 932: 'IĠdon', 933: 'ĠthinkĠ', 934: 'sĠtoĠ', 935: 'allĠ', 936: 'fle', 937: 'only', 938: ',Ġst', 939: 'foreĠ', 940: \"Gisburn'sĠ\", 941: ',Ġwith', 942: 'eyes', 943: 'Ġup', 944: 'itsĠ', 945: 'likeĠ', 946: 'factĠ', 947: 'ity.Ġ', 948: 'Po', 949: 'PoorĠ', 950: '!ĠTheĠ', 951: 'adeĠ', 952: 'him--', 953: 'him.Ġ', 954: 'har', 955: 'IfĠ', 956: 'hon', 957: 'who', 958: ',Ġin', 959: 'itu', 960: 'showyĠ', 961: 'ech', 962: \"on'tĠ\", 963: 'pa', 964: 'redĠtoĠ', 965: '.ĠAndĠ', 966: 'so', 967: 'able', 968: 'cus', 969: 'gra', 970: 'Ġthre', 971: 'eĠy', 972: 'fe', 973: 'week', 974: 'lingĠ', 975: ',ĠitĠ', 976: 'dden', 977: 'wonder', 978: 'reallyĠ', 979: 'Mrs.ĠGisburnĠ', 980: 'Ġafter', 981: 'Ġtak', 982: '.ĠItĠ', 983: '--s', 984: 'inceĠ', 985: 'paintingĠ', 986: 'Mis', 987: 'MissĠ', 988: 'MissĠCrof', 989: 'tĠhimĠ', 990: 'easel', 991: 'pu', 992: 'handĠ', 993: 'ationĠ', 994: 'Ġsp', 995: 'onĠmyĠ', 996: 'Mon', 997: 'bal', 998: 'between', 999: 'selfĠ'}\n",
      "1000\n"
     ]
    }
   ],
   "execution_count": 7
  },
  {
   "cell_type": "markdown",
   "id": "36c9da0f-8a18-41cd-91ea-9ccc2bb5febb",
   "metadata": {},
   "source": [
    "- This vocabulary is created by merging 742 times (~ `1000 - len(range(0, 256))`)"
   ]
  },
  {
   "cell_type": "code",
   "id": "3da42d1c-f75c-4ba7-a6c5-4cb8543d4a44",
   "metadata": {
    "ExecuteTime": {
     "end_time": "2025-08-15T21:15:38.997660Z",
     "start_time": "2025-08-15T21:15:38.993657Z"
    }
   },
   "source": [
    "print(len(tokenizer.bpe_merges))"
   ],
   "outputs": [
    {
     "name": "stdout",
     "output_type": "stream",
     "text": [
      "742\n"
     ]
    }
   ],
   "execution_count": 8
  },
  {
   "cell_type": "markdown",
   "id": "5dac69c9-8413-482a-8148-6b2afbf1fb89",
   "metadata": {},
   "source": [
    "- This means that the first 256 entries are single-character tokens"
   ]
  },
  {
   "cell_type": "markdown",
   "id": "451a4108-7c8b-4b98-9c67-d622e9cdf250",
   "metadata": {},
   "source": [
    "- Next, let's use the created merges via the `encode` method to encode some text:"
   ]
  },
  {
   "cell_type": "code",
   "id": "e1db5cce-e015-412b-ad56-060b8b638078",
   "metadata": {
    "ExecuteTime": {
     "end_time": "2025-08-15T21:15:41.794349Z",
     "start_time": "2025-08-15T21:15:41.789979Z"
    }
   },
   "source": [
    "input_text = \"Jack embraced beauty through art and life.\"\n",
    "token_ids = tokenizer.encode(input_text)\n",
    "print(token_ids)"
   ],
   "outputs": [
    {
     "name": "stdout",
     "output_type": "stream",
     "text": [
      "[424, 256, 654, 531, 302, 311, 256, 296, 97, 465, 121, 595, 841, 116, 287, 466, 256, 326, 972, 46]\n"
     ]
    }
   ],
   "execution_count": 9
  },
  {
   "cell_type": "code",
   "id": "1ed1b344-f7d4-4e9e-ac34-2a04b5c5b7a8",
   "metadata": {
    "ExecuteTime": {
     "end_time": "2025-08-15T21:15:45.555676Z",
     "start_time": "2025-08-15T21:15:45.551676Z"
    }
   },
   "source": [
    "print(\"Number of characters:\", len(input_text))\n",
    "print(\"Number of token IDs:\", len(token_ids))"
   ],
   "outputs": [
    {
     "name": "stdout",
     "output_type": "stream",
     "text": [
      "Number of characters: 42\n",
      "Number of token IDs: 20\n"
     ]
    }
   ],
   "execution_count": 10
  },
  {
   "cell_type": "markdown",
   "id": "50c1cfb9-402a-4e1e-9678-0b7547406248",
   "metadata": {},
   "source": [
    "- From the lengths above, we can see that a 42-character sentence was encoded into 20 token IDs, effectively cutting the input length roughly in half compared to a character-byte-based encoding"
   ]
  },
  {
   "cell_type": "markdown",
   "id": "252693ee-e806-4dac-ab76-2c69086360f4",
   "metadata": {},
   "source": [
    "- Note that the vocabulary itself is used in the `decode()` method, which allows us to map the token IDs back into text:"
   ]
  },
  {
   "cell_type": "code",
   "id": "da0e1faf-1933-43d9-b681-916c282a8f86",
   "metadata": {
    "ExecuteTime": {
     "end_time": "2025-08-15T21:15:48.064371Z",
     "start_time": "2025-08-15T21:15:48.060479Z"
    }
   },
   "source": [
    "print(token_ids)"
   ],
   "outputs": [
    {
     "name": "stdout",
     "output_type": "stream",
     "text": [
      "[424, 256, 654, 531, 302, 311, 256, 296, 97, 465, 121, 595, 841, 116, 287, 466, 256, 326, 972, 46]\n"
     ]
    }
   ],
   "execution_count": 11
  },
  {
   "cell_type": "code",
   "id": "8b690e83-5d6b-409a-804e-321c287c24a4",
   "metadata": {
    "ExecuteTime": {
     "end_time": "2025-08-15T21:15:50.223629Z",
     "start_time": "2025-08-15T21:15:50.219562Z"
    }
   },
   "source": [
    "print(tokenizer.decode(token_ids))"
   ],
   "outputs": [
    {
     "name": "stdout",
     "output_type": "stream",
     "text": [
      "Jack embraced beauty through art and life.\n"
     ]
    }
   ],
   "execution_count": 12
  },
  {
   "cell_type": "markdown",
   "id": "adea5d09-e5ef-4721-994b-b9b25662fa0a",
   "metadata": {},
   "source": [
    "- Iterating over each token ID can give us a better understanding of how the token IDs are decoded via the vocabulary:"
   ]
  },
  {
   "cell_type": "code",
   "id": "2b9e6289-92cb-4d88-b3c8-e836d7c8095f",
   "metadata": {
    "ExecuteTime": {
     "end_time": "2025-08-15T21:15:52.430387Z",
     "start_time": "2025-08-15T21:15:52.425525Z"
    }
   },
   "source": [
    "for token_id in token_ids:\n",
    "    print(f\"{token_id} -> {tokenizer.decode([token_id])}\")"
   ],
   "outputs": [
    {
     "name": "stdout",
     "output_type": "stream",
     "text": [
      "424 -> Jack\n",
      "256 ->  \n",
      "654 -> em\n",
      "531 -> br\n",
      "302 -> ac\n",
      "311 -> ed\n",
      "256 ->  \n",
      "296 -> be\n",
      "97 -> a\n",
      "465 -> ut\n",
      "121 -> y\n",
      "595 ->  through\n",
      "841 ->  ar\n",
      "116 -> t\n",
      "287 ->  a\n",
      "466 -> nd\n",
      "256 ->  \n",
      "326 -> li\n",
      "972 -> fe\n",
      "46 -> .\n"
     ]
    }
   ],
   "execution_count": 13
  },
  {
   "cell_type": "markdown",
   "id": "5ea41c6c-5538-4fd5-8b5f-195960853b71",
   "metadata": {},
   "source": [
    "- As we can see, most token IDs represent 2-character subwords; that's because the training data text is very short with not that many repetitive words, and because we used a relatively small vocabulary size"
   ]
  },
  {
   "cell_type": "markdown",
   "id": "600055a3-7ec8-4abf-b88a-c4186fb71463",
   "metadata": {},
   "source": [
    "- As a summary, calling `decode(encode())` should be able to reproduce arbitrary input texts:"
   ]
  },
  {
   "cell_type": "code",
   "id": "c7056cb1-a9a3-4cf6-8364-29fb493ae240",
   "metadata": {
    "ExecuteTime": {
     "end_time": "2025-08-15T21:15:55.925513Z",
     "start_time": "2025-08-15T21:15:55.919619Z"
    }
   },
   "source": [
    "tokenizer.decode(tokenizer.encode(\"This is some text.\"))"
   ],
   "outputs": [
    {
     "data": {
      "text/plain": [
       "'This is some text.'"
      ]
     },
     "execution_count": 14,
     "metadata": {},
     "output_type": "execute_result"
    }
   ],
   "execution_count": 14
  },
  {
   "cell_type": "markdown",
   "id": "a63b42bb-55bc-4c9d-b859-457a28b76302",
   "metadata": {},
   "source": [
    "### 3.2 Saving and loading the tokenizer"
   ]
  },
  {
   "cell_type": "markdown",
   "id": "86210925-06dc-4e8c-87bd-821569cd7142",
   "metadata": {},
   "source": [
    "- Next, let's look at how we can save the trained tokenizer for reuse later:"
   ]
  },
  {
   "cell_type": "code",
   "id": "955181cb-0910-4c6a-9c22-d8292a3ec1fc",
   "metadata": {
    "ExecuteTime": {
     "end_time": "2025-08-15T21:16:03.864067Z",
     "start_time": "2025-08-15T21:16:03.813911Z"
    }
   },
   "source": [
    "# Save trained tokenizer\n",
    "tokenizer.save_vocab_and_merges(vocab_path=\"vocab.json\", bpe_merges_path=\"bpe_merges.txt\")"
   ],
   "outputs": [],
   "execution_count": 15
  },
  {
   "cell_type": "code",
   "id": "6e5ccfe7-ac67-42f3-b727-87886a8867f1",
   "metadata": {
    "ExecuteTime": {
     "end_time": "2025-08-15T21:16:05.687236Z",
     "start_time": "2025-08-15T21:16:05.680500Z"
    }
   },
   "source": [
    "# Load tokenizer\n",
    "tokenizer2 = BPETokenizerSimple()\n",
    "tokenizer2.load_vocab_and_merges(vocab_path=\"vocab.json\", bpe_merges_path=\"bpe_merges.txt\")"
   ],
   "outputs": [],
   "execution_count": 16
  },
  {
   "cell_type": "markdown",
   "id": "e7f9bcc2-3b27-4473-b75e-4f289d52a7cc",
   "metadata": {},
   "source": [
    "- The loaded tokenizer should be able to produce the same results as before:"
   ]
  },
  {
   "cell_type": "code",
   "id": "00d9bf8f-756f-48bf-81b8-b890e2c2ef13",
   "metadata": {
    "ExecuteTime": {
     "end_time": "2025-08-15T21:16:08.126326Z",
     "start_time": "2025-08-15T21:16:08.122324Z"
    }
   },
   "source": [
    "print(tokenizer2.decode(token_ids))"
   ],
   "outputs": [
    {
     "name": "stdout",
     "output_type": "stream",
     "text": [
      "Jack embraced beauty through art and life.\n"
     ]
    }
   ],
   "execution_count": 17
  },
  {
   "cell_type": "markdown",
   "id": "b24d10b2-1ab8-44ee-b51a-14248e30d662",
   "metadata": {},
   "source": [
    "&nbsp;\n",
    "### 3.3 Loading the original GPT-2 BPE tokenizer from OpenAI"
   ]
  },
  {
   "cell_type": "markdown",
   "id": "df07e031-9495-4af1-929f-3f16cbde82a5",
   "metadata": {},
   "source": [
    "- Finally, let's load OpenAI's GPT-2 tokenizer files"
   ]
  },
  {
   "cell_type": "code",
   "id": "b45b4366-2c2b-4309-9a14-febf3add8512",
   "metadata": {
    "ExecuteTime": {
     "end_time": "2025-08-15T21:16:11.065236Z",
     "start_time": "2025-08-15T21:16:11.058278Z"
    }
   },
   "source": [
    "import os\n",
    "import urllib.request\n",
    "\n",
    "def download_file_if_absent(url, filename, search_dirs):\n",
    "    for directory in search_dirs:\n",
    "        file_path = os.path.join(directory, filename)\n",
    "        if os.path.exists(file_path):\n",
    "            print(f\"{filename} already exists in {file_path}\")\n",
    "            return file_path\n",
    "\n",
    "    target_path = os.path.join(search_dirs[0], filename)\n",
    "    try:\n",
    "        with urllib.request.urlopen(url) as response, open(target_path, \"wb\") as out_file:\n",
    "            out_file.write(response.read())\n",
    "        print(f\"Downloaded {filename} to {target_path}\")\n",
    "    except Exception as e:\n",
    "        print(f\"Failed to download {filename}. Error: {e}\")\n",
    "    return target_path\n",
    "\n",
    "# Define the directories to search and the files to download\n",
    "search_directories = [\".\", \"../02_bonus_bytepair-encoder/gpt2_model/\"]\n",
    "\n",
    "files_to_download = {\n",
    "    \"https://openaipublic.blob.core.windows.net/gpt-2/models/124M/vocab.bpe\": \"vocab.bpe\",\n",
    "    \"https://openaipublic.blob.core.windows.net/gpt-2/models/124M/encoder.json\": \"encoder.json\"\n",
    "}\n",
    "\n",
    "# Ensure directories exist and download files if needed\n",
    "paths = {}\n",
    "for url, filename in files_to_download.items():\n",
    "    paths[filename] = download_file_if_absent(url, filename, search_directories)"
   ],
   "outputs": [
    {
     "name": "stdout",
     "output_type": "stream",
     "text": [
      "vocab.bpe already exists in ../02_bonus_bytepair-encoder/gpt2_model/vocab.bpe\n",
      "encoder.json already exists in ../02_bonus_bytepair-encoder/gpt2_model/encoder.json\n"
     ]
    }
   ],
   "execution_count": 18
  },
  {
   "cell_type": "markdown",
   "id": "3fe260a0-1d5f-4bbd-9934-5117052764d1",
   "metadata": {},
   "source": [
    "- Next, we load the files via the `load_vocab_and_merges_from_openai` method:"
   ]
  },
  {
   "cell_type": "code",
   "id": "74306e6c-47d3-45a3-9e0f-93f7303ef601",
   "metadata": {
    "ExecuteTime": {
     "end_time": "2025-08-15T21:16:14.163905Z",
     "start_time": "2025-08-15T21:16:14.070600Z"
    }
   },
   "source": [
    "tokenizer_gpt2 = BPETokenizerSimple()\n",
    "tokenizer_gpt2.load_vocab_and_merges_from_openai(\n",
    "    vocab_path=paths[\"encoder.json\"], bpe_merges_path=paths[\"vocab.bpe\"]\n",
    ")"
   ],
   "outputs": [],
   "execution_count": 19
  },
  {
   "cell_type": "markdown",
   "id": "e1d012ce-9e87-47d7-8a1b-b6d6294d76c0",
   "metadata": {},
   "source": [
    "- The vocabulary size should be `50257` as we can confirm via the code below:"
   ]
  },
  {
   "cell_type": "code",
   "id": "2bb722b4-dbf5-4a0c-9120-efda3293f132",
   "metadata": {
    "ExecuteTime": {
     "end_time": "2025-08-15T21:16:16.330288Z",
     "start_time": "2025-08-15T21:16:16.324946Z"
    }
   },
   "source": [
    "len(tokenizer_gpt2.vocab)"
   ],
   "outputs": [
    {
     "data": {
      "text/plain": [
       "50257"
      ]
     },
     "execution_count": 20,
     "metadata": {},
     "output_type": "execute_result"
    }
   ],
   "execution_count": 20
  },
  {
   "cell_type": "markdown",
   "id": "7ea44b45-f524-44b5-a53a-f6d7f483fc19",
   "metadata": {},
   "source": [
    "- We can now use the GPT-2 tokenizer via our `BPETokenizerSimple` object:"
   ]
  },
  {
   "cell_type": "code",
   "id": "e4866de7-fb32-4dd6-a878-469ec734641c",
   "metadata": {
    "ExecuteTime": {
     "end_time": "2025-08-15T21:16:18.386331Z",
     "start_time": "2025-08-15T21:16:18.382318Z"
    }
   },
   "source": [
    "input_text = \"This is some text\"\n",
    "token_ids = tokenizer_gpt2.encode(input_text)\n",
    "print(token_ids)"
   ],
   "outputs": [
    {
     "name": "stdout",
     "output_type": "stream",
     "text": [
      "[1212, 318, 617, 2420]\n"
     ]
    }
   ],
   "execution_count": 21
  },
  {
   "cell_type": "code",
   "id": "3da8d9b2-af55-4b09-95d7-fabd983e919e",
   "metadata": {
    "ExecuteTime": {
     "end_time": "2025-08-15T21:16:20.449035Z",
     "start_time": "2025-08-15T21:16:20.444831Z"
    }
   },
   "source": [
    "print(tokenizer_gpt2.decode(token_ids))"
   ],
   "outputs": [
    {
     "name": "stdout",
     "output_type": "stream",
     "text": [
      "This is some text\n"
     ]
    }
   ],
   "execution_count": 22
  },
  {
   "cell_type": "code",
   "id": "460deb85-8de7-40c7-ba18-3c17831fa8ab",
   "metadata": {
    "ExecuteTime": {
     "end_time": "2025-08-15T21:16:22.620504Z",
     "start_time": "2025-08-15T21:16:22.430579Z"
    }
   },
   "source": [
    "import tiktoken\n",
    "\n",
    "tik_tokenizer = tiktoken.get_encoding(\"gpt2\")\n",
    "tik_tokenizer.encode(input_text)"
   ],
   "outputs": [
    {
     "data": {
      "text/plain": [
       "[1212, 318, 617, 2420]"
      ]
     },
     "execution_count": 23,
     "metadata": {},
     "output_type": "execute_result"
    }
   ],
   "execution_count": 23
  },
  {
   "cell_type": "markdown",
   "id": "b3b1e2dc-f69b-4533-87ef-549e6fb9b5a0",
   "metadata": {},
   "source": [
    "- You can double-check that this produces the correct tokens using the interactive [tiktoken app](https://tiktokenizer.vercel.app/?model=gpt2) or the [tiktoken library](https://github.com/openai/tiktoken):\n",
    "\n",
    "<img src=\"https://sebastianraschka.com/images/LLMs-from-scratch-images/bonus/bpe-from-scratch/tiktokenizer.webp\" width=\"600px\">\n",
    "\n",
    "```python\n",
    "import tiktoken\n",
    "\n",
    "gpt2_tokenizer = tiktoken.get_encoding(\"gpt2\")\n",
    "gpt2_tokenizer.encode(\"This is some text\")\n",
    "# prints [1212, 318, 617, 2420]\n",
    "```\n"
   ]
  },
  {
   "cell_type": "markdown",
   "id": "3558af04-483c-4f6b-88f5-a534f37316cd",
   "metadata": {},
   "source": [
    "&nbsp;\n",
    "# 4. Conclusion"
   ]
  },
  {
   "cell_type": "markdown",
   "id": "410ed0e6-ad06-4bb3-bb39-6b8110c1caa4",
   "metadata": {},
   "source": [
    "- That's it! That's how BPE works in a nutshell, complete with a training method for creating new tokenizers or loading the GPT-2 tokenizer vocabular and merges from the original OpenAI GPT-2 model\n",
    "- I hope you found this brief tutorial useful for educational purposes; if you have any questions, please feel free to open a new Discussion [here](https://github.com/rasbt/LLMs-from-scratch/discussions/categories/q-a)\n",
    "- For a performance comparison with other tokenizer implementations, please see [this notebook](https://github.com/rasbt/LLMs-from-scratch/blob/main/ch02/02_bonus_bytepair-encoder/compare-bpe-tiktoken.ipynb)"
   ]
  }
 ],
 "metadata": {
  "kernelspec": {
   "display_name": "Python 3 (ipykernel)",
   "language": "python",
   "name": "python3"
  },
  "language_info": {
   "codemirror_mode": {
    "name": "ipython",
    "version": 3
   },
   "file_extension": ".py",
   "mimetype": "text/x-python",
   "name": "python",
   "nbconvert_exporter": "python",
   "pygments_lexer": "ipython3",
   "version": "3.11.4"
  }
 },
 "nbformat": 4,
 "nbformat_minor": 5
}
