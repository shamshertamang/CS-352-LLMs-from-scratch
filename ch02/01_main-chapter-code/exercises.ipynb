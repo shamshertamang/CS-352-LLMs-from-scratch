{
 "cells": [
  {
   "metadata": {},
   "cell_type": "markdown",
   "source": [
    "#  Exercise 2.1 Byte pair encoding of unknown words #\n",
    "By Shamsher"
   ],
   "id": "b89c1ecea2511851"
  },
  {
   "metadata": {
    "collapsed": true,
    "ExecuteTime": {
     "end_time": "2025-04-01T15:19:32.668280Z",
     "start_time": "2025-04-01T15:19:32.651517Z"
    }
   },
   "cell_type": "code",
   "source": [
    "from importlib.metadata import version\n",
    "import tiktoken\n",
    "\n",
    "print(f'the version of tiktoken is {tiktoken.__version__}')"
   ],
   "id": "initial_id",
   "outputs": [
    {
     "name": "stdout",
     "output_type": "stream",
     "text": [
      "the version of tiktoken is 0.9.0\n"
     ]
    }
   ],
   "execution_count": 1
  },
  {
   "metadata": {
    "ExecuteTime": {
     "end_time": "2025-04-01T15:19:32.914541Z",
     "start_time": "2025-04-01T15:19:32.672311Z"
    }
   },
   "cell_type": "code",
   "source": [
    "# initialising tokenizer\n",
    "\n",
    "tokenizer = tiktoken.get_encoding(\"gpt2\")"
   ],
   "id": "9dfc668d803ba267",
   "outputs": [],
   "execution_count": 2
  },
  {
   "metadata": {
    "ExecuteTime": {
     "end_time": "2025-04-01T15:19:33.029416Z",
     "start_time": "2025-04-01T15:19:33.024537Z"
    }
   },
   "cell_type": "code",
   "source": [
    "text = 'Akwirw ier'\n",
    "\n",
    "encoded_text = tokenizer.encode(text, allowed_special={\"<|endoftext|>\"})\n",
    "print(encoded_text)"
   ],
   "id": "da1868c8c2d479d5",
   "outputs": [
    {
     "name": "stdout",
     "output_type": "stream",
     "text": [
      "[33901, 86, 343, 86, 220, 959]\n"
     ]
    }
   ],
   "execution_count": 3
  },
  {
   "metadata": {
    "ExecuteTime": {
     "end_time": "2025-04-01T15:19:33.054465Z",
     "start_time": "2025-04-01T15:19:33.048357Z"
    }
   },
   "cell_type": "code",
   "source": [
    "for i in encoded_text:\n",
    "    print(f'{i} --> {tokenizer.decode([i])}')"
   ],
   "id": "cc20b6397a3a46c9",
   "outputs": [
    {
     "name": "stdout",
     "output_type": "stream",
     "text": [
      "33901 --> Ak\n",
      "86 --> w\n",
      "343 --> ir\n",
      "86 --> w\n",
      "220 -->  \n",
      "959 --> ier\n"
     ]
    }
   ],
   "execution_count": 4
  },
  {
   "metadata": {
    "ExecuteTime": {
     "end_time": "2025-04-01T15:19:33.091353Z",
     "start_time": "2025-04-01T15:19:33.087456Z"
    }
   },
   "cell_type": "code",
   "source": "print(tokenizer.encode('Ak'))",
   "id": "4ef0ea23746aa06d",
   "outputs": [
    {
     "name": "stdout",
     "output_type": "stream",
     "text": [
      "[33901]\n"
     ]
    }
   ],
   "execution_count": 5
  },
  {
   "metadata": {
    "ExecuteTime": {
     "end_time": "2025-04-01T15:19:33.126934Z",
     "start_time": "2025-04-01T15:19:33.122934Z"
    }
   },
   "cell_type": "code",
   "source": "print(tokenizer.encode('w'))",
   "id": "71a45df8070b0f89",
   "outputs": [
    {
     "name": "stdout",
     "output_type": "stream",
     "text": [
      "[86]\n"
     ]
    }
   ],
   "execution_count": 6
  },
  {
   "metadata": {
    "ExecuteTime": {
     "end_time": "2025-04-01T15:19:33.162713Z",
     "start_time": "2025-04-01T15:19:33.157274Z"
    }
   },
   "cell_type": "code",
   "source": "print(tokenizer.encode('ir'))",
   "id": "1ee3341924c906e5",
   "outputs": [
    {
     "name": "stdout",
     "output_type": "stream",
     "text": [
      "[343]\n"
     ]
    }
   ],
   "execution_count": 7
  },
  {
   "metadata": {
    "ExecuteTime": {
     "end_time": "2025-04-01T15:19:33.196278Z",
     "start_time": "2025-04-01T15:19:33.191261Z"
    }
   },
   "cell_type": "code",
   "source": "print(tokenizer.encode('ier'))",
   "id": "5a721446021bedd5",
   "outputs": [
    {
     "name": "stdout",
     "output_type": "stream",
     "text": [
      "[959]\n"
     ]
    }
   ],
   "execution_count": 8
  },
  {
   "metadata": {
    "ExecuteTime": {
     "end_time": "2025-04-01T15:19:33.235335Z",
     "start_time": "2025-04-01T15:19:33.229892Z"
    }
   },
   "cell_type": "code",
   "source": "print(tokenizer.encode(' '))",
   "id": "3bd3d24ae3a15602",
   "outputs": [
    {
     "name": "stdout",
     "output_type": "stream",
     "text": [
      "[220]\n"
     ]
    }
   ],
   "execution_count": 9
  },
  {
   "metadata": {
    "ExecuteTime": {
     "end_time": "2025-04-01T15:19:33.280570Z",
     "start_time": "2025-04-01T15:19:33.276691Z"
    }
   },
   "cell_type": "code",
   "source": "print(tokenizer.decode(encoded_text))",
   "id": "f53c40157fa08dbe",
   "outputs": [
    {
     "name": "stdout",
     "output_type": "stream",
     "text": [
      "Akwirw ier\n"
     ]
    }
   ],
   "execution_count": 10
  },
  {
   "metadata": {},
   "cell_type": "markdown",
   "source": "### end of exercise 2.1 ###",
   "id": "f9e45d750743038b"
  },
  {
   "metadata": {},
   "cell_type": "markdown",
   "source": "# Exercise 2.2 #",
   "id": "5d968e534fcf9655"
  },
  {
   "metadata": {},
   "cell_type": "markdown",
   "source": "Data loaders with different strides and context sizes",
   "id": "e7ffa36d703b7e3b"
  },
  {
   "metadata": {
    "ExecuteTime": {
     "end_time": "2025-04-01T15:19:46.760209Z",
     "start_time": "2025-04-01T15:19:46.755068Z"
    }
   },
   "cell_type": "code",
   "source": [
    " import torch\n",
    " from torch.utils.data import Dataset, DataLoader\n",
    "\n",
    " class GPTDatasetV1(Dataset):\n",
    "    def __init__(self, txt, tokenizer, max_length, stride):\n",
    "     self.input_ids = []\n",
    "     self.target_ids = []\n",
    "     token_ids = tokenizer.encode(txt)\n",
    "\n",
    "     for i in range(0, len(token_ids) - max_length, stride):\n",
    "        input_chunk = token_ids[i:i + max_length]\n",
    "        target_chunk = token_ids[i + 1: i + max_length + 1]\n",
    "        self.input_ids.append(torch.tensor(input_chunk))\n",
    "        self.target_ids.append(torch.tensor(target_chunk))\n",
    "\n",
    "    def __len__(self):\n",
    "        return len(self.input_ids)\n",
    "    def __getitem__(self, idx):\n",
    "        return self.input_ids[idx], self.target_ids[idx]"
   ],
   "id": "c91fecd2337b32d9",
   "outputs": [],
   "execution_count": 17
  },
  {
   "metadata": {
    "ExecuteTime": {
     "end_time": "2025-04-01T15:19:48.566123Z",
     "start_time": "2025-04-01T15:19:48.551705Z"
    }
   },
   "cell_type": "code",
   "source": [
    " def create_dataloader_v1(txt, batch_size=4, max_length=256, stride=128, shuffle=True, drop_last=True, num_workers=0):\n",
    "    tokenizer = tiktoken.get_encoding(\"gpt2\")\n",
    "    dataset = GPTDatasetV1(txt, tokenizer, max_length, stride)\n",
    "    dataloader = DataLoader(\n",
    "        dataset,\n",
    "        batch_size=batch_size,\n",
    "        shuffle=shuffle,\n",
    "        drop_last=drop_last,\n",
    "        num_workers=num_workers\n",
    "    )\n",
    "\n",
    "    return dataloader"
   ],
   "id": "645b488a542c31de",
   "outputs": [],
   "execution_count": 18
  },
  {
   "metadata": {
    "ExecuteTime": {
     "end_time": "2025-04-01T15:19:55.219208Z",
     "start_time": "2025-04-01T15:19:55.212492Z"
    }
   },
   "cell_type": "code",
   "source": [
    "with open(\"the-verdict.txt\", \"r\", encoding=\"utf-8\") as f:\n",
    "    raw_text = f.read()"
   ],
   "id": "ac917013b8918d58",
   "outputs": [],
   "execution_count": 19
  },
  {
   "metadata": {
    "ExecuteTime": {
     "end_time": "2025-04-01T15:20:00.287617Z",
     "start_time": "2025-04-01T15:20:00.158846Z"
    }
   },
   "cell_type": "code",
   "source": [
    "dataloader = create_dataloader_v1(raw_text, batch_size=1, max_length=4, stride=1, shuffle=False)\n",
    "data_iter = iter(dataloader)\n",
    "first_batch = next(data_iter)\n",
    "print(first_batch)"
   ],
   "id": "72ddde8d26e17eb5",
   "outputs": [
    {
     "name": "stdout",
     "output_type": "stream",
     "text": [
      "[tensor([[  40,  367, 2885, 1464]]), tensor([[ 367, 2885, 1464, 1807]])]\n"
     ]
    }
   ],
   "execution_count": 20
  },
  {
   "metadata": {
    "ExecuteTime": {
     "end_time": "2025-04-01T15:22:24.165591Z",
     "start_time": "2025-04-01T15:22:24.132513Z"
    }
   },
   "cell_type": "code",
   "source": [
    "# experimenting with max_length 2 and stride 2\n",
    "dataloader = create_dataloader_v1(raw_text, batch_size=1, max_length=2, stride=2, shuffle=False)\n",
    "data_iter = iter(dataloader)\n",
    "first_batch = next(data_iter)\n",
    "print(first_batch)"
   ],
   "id": "b6391713d7898ac7",
   "outputs": [
    {
     "name": "stdout",
     "output_type": "stream",
     "text": [
      "[tensor([[ 40, 367]]), tensor([[ 367, 2885]])]\n"
     ]
    }
   ],
   "execution_count": 30
  },
  {
   "metadata": {
    "ExecuteTime": {
     "end_time": "2025-04-01T15:22:25.867979Z",
     "start_time": "2025-04-01T15:22:25.825813Z"
    }
   },
   "cell_type": "code",
   "source": [
    "# experimenting with max_length 8 and stride 2\n",
    "\n",
    "dataloader = create_dataloader_v1(raw_text, batch_size=1, max_length=8, stride=2, shuffle=False)\n",
    "data_iter = iter(dataloader)\n",
    "first_batch = next(data_iter)\n",
    "print(first_batch)"
   ],
   "id": "ec44fa6ded80b34b",
   "outputs": [
    {
     "name": "stdout",
     "output_type": "stream",
     "text": [
      "[tensor([[  40,  367, 2885, 1464, 1807, 3619,  402,  271]]), tensor([[  367,  2885,  1464,  1807,  3619,   402,   271, 10899]])]\n"
     ]
    }
   ],
   "execution_count": 31
  },
  {
   "metadata": {},
   "cell_type": "markdown",
   "source": "### end of 2.2 ###",
   "id": "66fd8af76dee856a"
  }
 ],
 "metadata": {
  "kernelspec": {
   "display_name": "Python 3",
   "language": "python",
   "name": "python3"
  },
  "language_info": {
   "codemirror_mode": {
    "name": "ipython",
    "version": 2
   },
   "file_extension": ".py",
   "mimetype": "text/x-python",
   "name": "python",
   "nbconvert_exporter": "python",
   "pygments_lexer": "ipython2",
   "version": "2.7.6"
  }
 },
 "nbformat": 4,
 "nbformat_minor": 5
}
